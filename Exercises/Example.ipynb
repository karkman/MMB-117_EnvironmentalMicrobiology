{
 "cells": [
  {
   "cell_type": "markdown",
   "id": "736a2faf",
   "metadata": {},
   "source": [
    "# Example notebook\n",
    "\n",
    "This is an example notebook with some examples to get you familiar with Jupyter notebooks. Normally you would run Python code in notebooks, but it is also possible run basic bash commands in notebooks. Some commands need to run by adding  \"!\" before the command. "
   ]
  },
  {
   "cell_type": "markdown",
   "id": "6006332c",
   "metadata": {},
   "source": [
    "Print from command line using echo (bash):"
   ]
  },
  {
   "cell_type": "code",
   "execution_count": null,
   "id": "85126e14",
   "metadata": {},
   "outputs": [],
   "source": [
    "!echo \"Hello world\""
   ]
  },
  {
   "cell_type": "markdown",
   "id": "90428146",
   "metadata": {},
   "source": [
    "Print from Python:"
   ]
  },
  {
   "cell_type": "code",
   "execution_count": null,
   "id": "91f651dc",
   "metadata": {},
   "outputs": [],
   "source": [
    "print(\"Hello world!\")"
   ]
  },
  {
   "cell_type": "markdown",
   "id": "5896c781",
   "metadata": {},
   "source": [
    "Next check where you are and list the files in there. "
   ]
  },
  {
   "cell_type": "code",
   "execution_count": null,
   "id": "bb4db0c2",
   "metadata": {
    "scrolled": true
   },
   "outputs": [],
   "source": [
    "!pwd"
   ]
  },
  {
   "cell_type": "code",
   "execution_count": null,
   "id": "3abf7152",
   "metadata": {},
   "outputs": [],
   "source": [
    "!ls -l"
   ]
  },
  {
   "cell_type": "markdown",
   "id": "af299a65",
   "metadata": {},
   "source": [
    "As you probably noted, you're running the commands from the `notebooks` folder (the example notebook is located there). So everything will be executed in there. If you want to make a folder in `MMB-117_EnvironmentalMicrobiology`, you have to either move there or specify the path for `mkdir`. You can use relative path (`../`) or absolute path (`/scratch/project_2007145/${USER}/MMB-117/MMB-117_EnvironmentalMicrobiology`) \n",
    "It is important to keep track where you are when working from the command line, otherwise it is easy to get lost. "
   ]
  },
  {
   "cell_type": "markdown",
   "id": "3140a5b5",
   "metadata": {},
   "source": [
    "Make a new dierctory to the main folder (`MMB-117_EnvironmentalMicrobiology`) and check that it was created. You should also see it in the left panel showing all files and folders. "
   ]
  },
  {
   "cell_type": "code",
   "execution_count": null,
   "id": "cb7c49ca",
   "metadata": {
    "scrolled": true
   },
   "outputs": [],
   "source": [
    "!mkdir testdir"
   ]
  },
  {
   "cell_type": "code",
   "execution_count": null,
   "id": "50f6bfe5",
   "metadata": {},
   "outputs": [],
   "source": [
    "!ls -lt"
   ]
  },
  {
   "cell_type": "markdown",
   "id": "8dbd2d35",
   "metadata": {},
   "source": [
    "Then remove the empty folder:"
   ]
  },
  {
   "cell_type": "code",
   "execution_count": null,
   "id": "f86deebf",
   "metadata": {},
   "outputs": [],
   "source": [
    "!rm -r testdir "
   ]
  },
  {
   "cell_type": "markdown",
   "id": "ce51b6b0",
   "metadata": {},
   "source": [
    "The first thing we are going to do with our data is quality control (QC). \n",
    "\n",
    "We will be using `fastqc` for that. You can print the help page for `fastqc`:"
   ]
  },
  {
   "cell_type": "code",
   "execution_count": null,
   "id": "93407ac2",
   "metadata": {},
   "outputs": [],
   "source": [
    "!fastqc -h"
   ]
  },
  {
   "cell_type": "markdown",
   "id": "09c8a51b",
   "metadata": {},
   "source": [
    "Other tools we are going to use are `cutadapt` and `multiqc`. Print the help pages for both. \n",
    "\n",
    "You can add new blocks from the buttons above the document. Code for code and markdown for instrucitons and notes. "
   ]
  },
  {
   "cell_type": "code",
   "execution_count": null,
   "id": "868eb5d0",
   "metadata": {},
   "outputs": [],
   "source": []
  },
  {
   "cell_type": "markdown",
   "id": "d98eb27b",
   "metadata": {},
   "source": [
    "After printing the help menus, copy the example data set to your own data folder.  \n",
    "\n",
    "The data can be found from `/scratch/project_2007145/data/` and you should copy it to your own `data` folder. \n",
    "\n",
    "As we have both 16S and ITS data, make separate folders under the `data` folder (`bac_data` and `fun_data`). "
   ]
  },
  {
   "cell_type": "code",
   "execution_count": null,
   "id": "c9f7d00f",
   "metadata": {},
   "outputs": [],
   "source": [
    "cd .."
   ]
  },
  {
   "cell_type": "code",
   "execution_count": null,
   "id": "34fc2465-adf6-43b5-8283-c862b44f0b34",
   "metadata": {},
   "outputs": [],
   "source": [
    "rm -r data/bac_data"
   ]
  },
  {
   "cell_type": "code",
   "execution_count": null,
   "id": "73e1949e-4da0-4de9-83ad-5a83b308969d",
   "metadata": {},
   "outputs": [],
   "source": [
    "rm -r data/fun_data"
   ]
  },
  {
   "cell_type": "code",
   "execution_count": null,
   "id": "73a0cf21-58bf-4c87-bfa3-c2633cf5bf1f",
   "metadata": {},
   "outputs": [],
   "source": [
    "cp -r /scratch/project_2007145/data/bac_data/ data/"
   ]
  },
  {
   "cell_type": "code",
   "execution_count": null,
   "id": "e12c99e4-c12d-4dfa-a874-d4b4bea6128a",
   "metadata": {},
   "outputs": [],
   "source": [
    "cp -r /scratch/project_2007145/data/fun_data/ data/"
   ]
  },
  {
   "cell_type": "markdown",
   "id": "5259b94b",
   "metadata": {},
   "source": [
    "__And we are done for today.__"
   ]
  }
 ],
 "metadata": {
  "kernelspec": {
   "display_name": "Python 3 (ipykernel)",
   "language": "python",
   "name": "python3"
  },
  "language_info": {
   "codemirror_mode": {
    "name": "ipython",
    "version": 3
   },
   "file_extension": ".py",
   "mimetype": "text/x-python",
   "name": "python",
   "nbconvert_exporter": "python",
   "pygments_lexer": "ipython3",
   "version": "3.8.12"
  },
  "vscode": {
   "interpreter": {
    "hash": "0c1aed64d5e4f622e107948ca29209dcff88f0cd53bde2862acf33e5a35c0f44"
   }
  }
 },
 "nbformat": 4,
 "nbformat_minor": 5
}
