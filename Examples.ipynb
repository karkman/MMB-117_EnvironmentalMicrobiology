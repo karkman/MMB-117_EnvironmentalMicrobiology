{
 "cells": [
  {
   "cell_type": "markdown",
   "id": "736a2faf",
   "metadata": {},
   "source": [
    "# Example notebook\n",
    "\n",
    "This notebook can be used for testing"
   ]
  },
  {
   "cell_type": "code",
   "execution_count": 1,
   "id": "bb4db0c2",
   "metadata": {
    "scrolled": true
   },
   "outputs": [
    {
     "data": {
      "text/plain": [
       "'/scratch/project_2007145/antkark/MMB-117/MMB-117_EnvironmentalMicrobiology'"
      ]
     },
     "execution_count": 1,
     "metadata": {},
     "output_type": "execute_result"
    }
   ],
   "source": [
    "pwd"
   ]
  },
  {
   "cell_type": "code",
   "execution_count": null,
   "id": "cb7c49ca",
   "metadata": {
    "scrolled": true
   },
   "outputs": [],
   "source": [
    "ls -l data"
   ]
  },
  {
   "cell_type": "code",
   "execution_count": null,
   "id": "ce51b6b0",
   "metadata": {},
   "outputs": [],
   "source": [
    "!fastqc -h"
   ]
  },
  {
   "cell_type": "code",
   "execution_count": null,
   "id": "93407ac2",
   "metadata": {},
   "outputs": [],
   "source": [
    "!multiqc -h"
   ]
  },
  {
   "cell_type": "code",
   "execution_count": null,
   "id": "09c8a51b",
   "metadata": {},
   "outputs": [],
   "source": [
    "!cutadapt -h"
   ]
  }
 ],
 "metadata": {
  "kernelspec": {
   "display_name": "Python 3 (ipykernel)",
   "language": "python",
   "name": "python3"
  },
  "language_info": {
   "codemirror_mode": {
    "name": "ipython",
    "version": 3
   },
   "file_extension": ".py",
   "mimetype": "text/x-python",
   "name": "python",
   "nbconvert_exporter": "python",
   "pygments_lexer": "ipython3",
   "version": "3.8.8"
  }
 },
 "nbformat": 4,
 "nbformat_minor": 5
}
