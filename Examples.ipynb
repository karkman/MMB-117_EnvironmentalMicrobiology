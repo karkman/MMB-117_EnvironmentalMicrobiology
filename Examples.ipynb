{
 "cells": [
  {
   "cell_type": "markdown",
   "id": "736a2faf",
   "metadata": {},
   "source": [
    "# Example notebook\n",
    "\n",
    "This notebook can be used for testing"
   ]
  },
  {
   "cell_type": "code",
   "execution_count": 1,
   "id": "bb4db0c2",
   "metadata": {},
   "outputs": [
    {
     "name": "stdout",
     "output_type": "stream",
     "text": [
      "/bin/bash: module: command not found\r\n"
     ]
    }
   ],
   "source": [
    "!module load biokit"
   ]
  },
  {
   "cell_type": "code",
   "execution_count": null,
   "id": "ce51b6b0",
   "metadata": {},
   "outputs": [],
   "source": [
    "!fastqc -h"
   ]
  }
 ],
 "metadata": {
  "kernelspec": {
   "display_name": "Python 3 (ipykernel)",
   "language": "python",
   "name": "python3"
  },
  "language_info": {
   "codemirror_mode": {
    "name": "ipython",
    "version": 3
   },
   "file_extension": ".py",
   "mimetype": "text/x-python",
   "name": "python",
   "nbconvert_exporter": "python",
   "pygments_lexer": "ipython3",
   "version": "3.8.12"
  }
 },
 "nbformat": 4,
 "nbformat_minor": 5
}
