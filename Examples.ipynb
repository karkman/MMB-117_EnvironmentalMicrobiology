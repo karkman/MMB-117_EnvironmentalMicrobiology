{
 "cells": [
  {
   "cell_type": "markdown",
   "id": "736a2faf",
   "metadata": {},
   "source": [
    "# Example notebook\n",
    "\n",
    "This notebook can be used for testing"
   ]
  },
  {
   "cell_type": "code",
   "execution_count": 1,
   "id": "bb4db0c2",
   "metadata": {
    "scrolled": true
   },
   "outputs": [
    {
     "data": {
      "text/plain": [
       "'/scratch/project_2007145/antkark/MMB-117/MMB-117_EnvironmentalMicrobiology'"
      ]
     },
     "execution_count": 1,
     "metadata": {},
     "output_type": "execute_result"
    }
   ],
   "source": [
    "pwd"
   ]
  },
  {
   "cell_type": "code",
   "execution_count": null,
   "id": "cb7c49ca",
   "metadata": {
    "scrolled": true
   },
   "outputs": [],
   "source": [
    "ls -l data"
   ]
  },
  {
   "cell_type": "markdown",
   "id": "ce51b6b0",
   "metadata": {},
   "source": [
    "First things to do with new data is quality control (QC). With sequencing data, we will look at things like "
   ]
  },
  {
   "cell_type": "code",
   "execution_count": null,
   "id": "93407ac2",
   "metadata": {},
   "outputs": [],
   "source": [
    "fastqc --quiet -t 8 --outdir data/FASTQC -f fastq data/*.fastq.gz"
   ]
  },
  {
   "cell_type": "code",
   "execution_count": null,
   "id": "09c8a51b",
   "metadata": {},
   "outputs": [],
   "source": []
  }
 ],
 "metadata": {
  "kernelspec": {
   "display_name": "Python 3.8.12 ('base')",
   "language": "python",
   "name": "python3"
  },
  "language_info": {
   "codemirror_mode": {
    "name": "ipython",
    "version": 3
   },
   "file_extension": ".py",
   "mimetype": "text/x-python",
   "name": "python",
   "nbconvert_exporter": "python",
   "pygments_lexer": "ipython3",
   "version": "3.8.12"
  },
  "vscode": {
   "interpreter": {
    "hash": "0c1aed64d5e4f622e107948ca29209dcff88f0cd53bde2862acf33e5a35c0f44"
   }
  }
 },
 "nbformat": 4,
 "nbformat_minor": 5
}
