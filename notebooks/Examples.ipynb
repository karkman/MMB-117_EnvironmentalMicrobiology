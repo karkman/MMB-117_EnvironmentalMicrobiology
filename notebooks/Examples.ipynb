{
 "cells": [
  {
   "cell_type": "markdown",
   "id": "736a2faf",
   "metadata": {},
   "source": [
    "# Example notebook\n",
    "\n",
    "This is an example notebook with some examples to get you familiar with Jupyter notebooks. Normally you would run Python code in notebooks, but it is also possible run basic bash commands in notebooks by starting the command with \"!\". "
   ]
  },
  {
   "cell_type": "markdown",
   "id": "6006332c",
   "metadata": {},
   "source": [
    "Print from command line using echo (bash):"
   ]
  },
  {
   "cell_type": "markdown",
   "id": "85126e14",
   "metadata": {},
   "source": [
    "!echo \"Hello world\""
   ]
  },
  {
   "cell_type": "markdown",
   "id": "90428146",
   "metadata": {},
   "source": [
    "Print from Python:"
   ]
  },
  {
   "cell_type": "code",
   "execution_count": null,
   "id": "91f651dc",
   "metadata": {},
   "outputs": [],
   "source": [
    "print(\"Hello world!\")"
   ]
  },
  {
   "cell_type": "markdown",
   "id": "5896c781",
   "metadata": {},
   "source": [
    "Next check where you aree and list the files in there. "
   ]
  },
  {
   "cell_type": "code",
   "execution_count": null,
   "id": "bb4db0c2",
   "metadata": {
    "scrolled": true
   },
   "outputs": [],
   "source": [
    "!pwd"
   ]
  },
  {
   "cell_type": "code",
   "execution_count": null,
   "id": "3abf7152",
   "metadata": {},
   "outputs": [],
   "source": [
    "!ls -l"
   ]
  },
  {
   "cell_type": "markdown",
   "id": "3140a5b5",
   "metadata": {},
   "source": [
    "Make a new dierctory and check that it was created. You should also see it in the left panel showing all files and folders. "
   ]
  },
  {
   "cell_type": "code",
   "execution_count": null,
   "id": "cb7c49ca",
   "metadata": {
    "scrolled": true
   },
   "outputs": [],
   "source": [
    "!mkdir testdir"
   ]
  },
  {
   "cell_type": "code",
   "execution_count": null,
   "id": "50f6bfe5",
   "metadata": {},
   "outputs": [],
   "source": [
    "!ls -lt"
   ]
  },
  {
   "cell_type": "markdown",
   "id": "8dbd2d35",
   "metadata": {},
   "source": [
    "Then remnove the empty folder:"
   ]
  },
  {
   "cell_type": "code",
   "execution_count": null,
   "id": "f86deebf",
   "metadata": {},
   "outputs": [],
   "source": [
    "!rm testdir "
   ]
  },
  {
   "cell_type": "markdown",
   "id": "ce51b6b0",
   "metadata": {},
   "source": [
    "The first thing we are going to do with our data is quality control (QC). You can print the help from the tool:"
   ]
  },
  {
   "cell_type": "code",
   "execution_count": null,
   "id": "93407ac2",
   "metadata": {},
   "outputs": [],
   "source": [
    "!fastqc -h"
   ]
  },
  {
   "cell_type": "markdown",
   "id": "09c8a51b",
   "metadata": {},
   "source": [
    "Other tools we are going to use are `cutadapt` and `multiqc`. Print the help pages for both. You can add new blocks from the buttons above the document. Code for code and markdown for instrucitons and notes. "
   ]
  },
  {
   "cell_type": "markdown",
   "id": "d98eb27b",
   "metadata": {},
   "source": [
    "After printing the help menus, copy the example data set to your own data folder.  \n",
    "\n",
    "The data can be found from `/scratch/project_2007145/data/` and you should copy it to your own `data` folder. \n",
    "\n",
    "As we have both 16S and ITS data, make separate folders under the `data` folder (`bac_data` and `fun_data`). "
   ]
  },
  {
   "cell_type": "code",
   "execution_count": null,
   "id": "c9f7d00f",
   "metadata": {},
   "outputs": [],
   "source": []
  }
 ],
 "metadata": {
  "kernelspec": {
   "display_name": "Python",
   "language": "python",
   "name": "python3"
  },
  "language_info": {
   "codemirror_mode": {
    "name": "ipython",
    "version": 3
   },
   "file_extension": ".py",
   "mimetype": "text/x-python",
   "name": "python",
   "nbconvert_exporter": "python",
   "pygments_lexer": "ipython3",
   "version": ""
  },
  "vscode": {
   "interpreter": {
    "hash": "25a19fbe0a9132dfb9279d48d161753c6352f8f9478c2e74383d340069b907c3"
   }
  }
 },
 "nbformat": 4,
 "nbformat_minor": 5
}
