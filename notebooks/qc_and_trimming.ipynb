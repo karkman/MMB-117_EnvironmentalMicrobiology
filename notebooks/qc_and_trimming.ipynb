{
 "cells": [
  {
   "cell_type": "markdown",
   "metadata": {},
   "source": [
    "# Quality control and adapter trimming of Illumina reads\n",
    "\n",
    "The first step with sequence data is always quality control (QC). We will use [fastqc](https://www.bioinformatics.babraham.ac.uk/projects/fastqc/) for this.  \n",
    "As this notebook is again located in `notebooks` folder, move to the main course folder to run the analysis.\n",
    "\n",
    "Keep in mind that all steps will be done separately for the bacterial (16S) and fungal (ITS) data. \n",
    "\n",
    "The data to be analysed is in the folders created under `data/` folder (`bac_data` & `fun_data`). First step is to create output folders for fastqc for both 16S and ITS data. "
   ]
  },
  {
   "cell_type": "markdown",
   "metadata": {},
   "source": [
    "Move to the right folder. "
   ]
  },
  {
   "cell_type": "code",
   "execution_count": 1,
   "metadata": {},
   "outputs": [
    {
     "name": "stdout",
     "output_type": "stream",
     "text": [
      "/scratch/project_2007145/antkark/MMB-117/MMB-117_EnvironmentalMicrobiology\n"
     ]
    }
   ],
   "source": [
    "cd ../"
   ]
  },
  {
   "cell_type": "code",
   "execution_count": 3,
   "metadata": {},
   "outputs": [
    {
     "name": "stdout",
     "output_type": "stream",
     "text": [
      "\u001b[0m\u001b[01;32mA001-A-agri-bac-TGAAGGAT-AACTGACT-MMB17-course-run20230203R_S1_L001_R1_001.fastq.gz\u001b[0m\u001b[K*\n",
      "\u001b[01;32mA001-A-agri-bac-TGAAGGAT-AACTGACT-MMB17-course-run20230203R_S1_L001_R2_001.fastq.gz\u001b[0m\u001b[K*\n",
      "\u001b[01;32mA003-A-fore-bac-TGAAGGAT-GCACTCTG-MMB17-course-run20230203R_S3_L001_R1_001.fastq.gz\u001b[0m\u001b[K*\n",
      "\u001b[01;32mA003-A-fore-bac-TGAAGGAT-GCACTCTG-MMB17-course-run20230203R_S3_L001_R2_001.fastq.gz\u001b[0m\u001b[K*\n",
      "\u001b[01;32mA005-A-park-bac-TGAAGGAT-CGTACACA-MMB17-course-run20230203R_S5_L001_R1_001.fastq.gz\u001b[0m\u001b[K*\n",
      "\u001b[01;32mA005-A-park-bac-TGAAGGAT-CGTACACA-MMB17-course-run20230203R_S5_L001_R2_001.fastq.gz\u001b[0m\u001b[K*\n",
      "\u001b[01;32mA007-A-NC-bac-TGAAGGAT-GTGTTCGC-MMB17-course-run20230203R_S7_L001_R1_001.fastq.gz\u001b[0m\u001b[K*\n",
      "\u001b[01;32mA007-A-NC-bac-TGAAGGAT-GTGTTCGC-MMB17-course-run20230203R_S7_L001_R2_001.fastq.gz\u001b[0m\u001b[K*\n",
      "\u001b[01;32mA009-B-park-bac-CACTTCGT-AACTGACT-MMB17-course-run20230203R_S9_L001_R1_001.fastq.gz\u001b[0m\u001b[K*\n",
      "\u001b[01;32mA009-B-park-bac-CACTTCGT-AACTGACT-MMB17-course-run20230203R_S9_L001_R2_001.fastq.gz\u001b[0m\u001b[K*\n",
      "\u001b[01;32mA010-B-agri-bac-CACTTCGT-TGAGAGAA-MMB17-course-run20230203R_S10_L001_R1_001.fastq.gz\u001b[0m\u001b[K*\n",
      "\u001b[01;32mA010-B-agri-bac-CACTTCGT-TGAGAGAA-MMB17-course-run20230203R_S10_L001_R2_001.fastq.gz\u001b[0m\u001b[K*\n",
      "\u001b[01;32mA011-B-fore-bac-CACTTCGT-GCACTCTG-MMB17-course-run20230203R_S11_L001_R1_001.fastq.gz\u001b[0m\u001b[K*\n",
      "\u001b[01;32mA011-B-fore-bac-CACTTCGT-GCACTCTG-MMB17-course-run20230203R_S11_L001_R2_001.fastq.gz\u001b[0m\u001b[K*\n",
      "\u001b[01;32mA015-B-NC-bac-CACTTCGT-GTGTTCGC-MMB17-course-run20230203R_S15_L001_R1_001.fastq.gz\u001b[0m\u001b[K*\n",
      "\u001b[01;32mA015-B-NC-bac-CACTTCGT-GTGTTCGC-MMB17-course-run20230203R_S15_L001_R2_001.fastq.gz\u001b[0m\u001b[K*\n",
      "\u001b[01;32mA017-C-park-bac-ACCACCAC-AACTGACT-MMB17-course-run20230203R_S17_L001_R1_001.fastq.gz\u001b[0m\u001b[K*\n",
      "\u001b[01;32mA017-C-park-bac-ACCACCAC-AACTGACT-MMB17-course-run20230203R_S17_L001_R2_001.fastq.gz\u001b[0m\u001b[K*\n",
      "\u001b[01;32mA019-C-agri-bac-ACCACCAC-GCACTCTG-MMB17-course-run20230203R_S19_L001_R1_001.fastq.gz\u001b[0m\u001b[K*\n",
      "\u001b[01;32mA019-C-agri-bac-ACCACCAC-GCACTCTG-MMB17-course-run20230203R_S19_L001_R2_001.fastq.gz\u001b[0m\u001b[K*\n",
      "\u001b[01;32mA021-C-fore-bac-ACCACCAC-CGTACACA-MMB17-course-run20230203R_S21_L001_R1_001.fastq.gz\u001b[0m\u001b[K*\n",
      "\u001b[01;32mA021-C-fore-bac-ACCACCAC-CGTACACA-MMB17-course-run20230203R_S21_L001_R2_001.fastq.gz\u001b[0m\u001b[K*\n",
      "\u001b[01;32mA023-C-NC-bac-ACCACCAC-GTGTTCGC-MMB17-course-run20230203R_S23_L001_R1_001.fastq.gz\u001b[0m\u001b[K*\n",
      "\u001b[01;32mA023-C-NC-bac-ACCACCAC-GTGTTCGC-MMB17-course-run20230203R_S23_L001_R2_001.fastq.gz\u001b[0m\u001b[K*\n",
      "\u001b[01;32mA025-D-agri-bac-AGGTCTCC-AACTGACT-MMB17-course-run20230203R_S25_L001_R1_001.fastq.gz\u001b[0m\u001b[K*\n",
      "\u001b[01;32mA025-D-agri-bac-AGGTCTCC-AACTGACT-MMB17-course-run20230203R_S25_L001_R2_001.fastq.gz\u001b[0m\u001b[K*\n",
      "\u001b[01;32mA026-D-fore-bac-AGGTCTCC-TGAGAGAA-MMB17-course-run20230203R_S26_L001_R1_001.fastq.gz\u001b[0m\u001b[K*\n",
      "\u001b[01;32mA026-D-fore-bac-AGGTCTCC-TGAGAGAA-MMB17-course-run20230203R_S26_L001_R2_001.fastq.gz\u001b[0m\u001b[K*\n",
      "\u001b[01;32mA027-D-park-bac-AGGTCTCC-GCACTCTG-MMB17-course-run20230203R_S27_L001_R1_001.fastq.gz\u001b[0m\u001b[K*\n",
      "\u001b[01;32mA027-D-park-bac-AGGTCTCC-GCACTCTG-MMB17-course-run20230203R_S27_L001_R2_001.fastq.gz\u001b[0m\u001b[K*\n",
      "\u001b[01;32mA028-D-NC-bac-AGGTCTCC-CTTGGTTA-MMB17-course-run20230203R_S28_L001_R1_001.fastq.gz\u001b[0m\u001b[K*\n",
      "\u001b[01;32mA028-D-NC-bac-AGGTCTCC-CTTGGTTA-MMB17-course-run20230203R_S28_L001_R2_001.fastq.gz\u001b[0m\u001b[K*\n",
      "\u001b[01;32mA033-E-agri-bac-CTTGGTTG-AACTGACT-MMB17-course-run20230203R_S33_L001_R1_001.fastq.gz\u001b[0m\u001b[K*\n",
      "\u001b[01;32mA033-E-agri-bac-CTTGGTTG-AACTGACT-MMB17-course-run20230203R_S33_L001_R2_001.fastq.gz\u001b[0m\u001b[K*\n",
      "\u001b[01;32mA034-E-park-bac-CTTGGTTG-TGAGAGAA-MMB17-course-run20230203R_S34_L001_R1_001.fastq.gz\u001b[0m\u001b[K*\n",
      "\u001b[01;32mA034-E-park-bac-CTTGGTTG-TGAGAGAA-MMB17-course-run20230203R_S34_L001_R2_001.fastq.gz\u001b[0m\u001b[K*\n",
      "\u001b[01;32mA035-E-fore-bac-CTTGGTTG-GCACTCTG-MMB17-course-run20230203R_S35_L001_R1_001.fastq.gz\u001b[0m\u001b[K*\n",
      "\u001b[01;32mA035-E-fore-bac-CTTGGTTG-GCACTCTG-MMB17-course-run20230203R_S35_L001_R2_001.fastq.gz\u001b[0m\u001b[K*\n",
      "\u001b[01;32mA039-E-NC-bac-CTTGGTTG-GTGTTCGC-MMB17-course-run20230203R_S39_L001_R1_001.fastq.gz\u001b[0m\u001b[K*\n",
      "\u001b[01;32mA039-E-NC-bac-CTTGGTTG-GTGTTCGC-MMB17-course-run20230203R_S39_L001_R2_001.fastq.gz\u001b[0m\u001b[K*\n"
     ]
    }
   ],
   "source": [
    "ls data/bac_data/"
   ]
  },
  {
   "cell_type": "markdown",
   "metadata": {},
   "source": [
    "Make the output for bacterial reads."
   ]
  },
  {
   "cell_type": "code",
   "execution_count": 4,
   "metadata": {},
   "outputs": [],
   "source": [
    "mkdir data/bac_data/FASTQC"
   ]
  },
  {
   "cell_type": "markdown",
   "metadata": {},
   "source": [
    "And for the fungal data. "
   ]
  },
  {
   "cell_type": "code",
   "execution_count": 5,
   "metadata": {},
   "outputs": [],
   "source": [
    "mkdir data/fun_data/FASTQC"
   ]
  },
  {
   "cell_type": "markdown",
   "metadata": {},
   "source": [
    "Then run fastqc on the bacterial data."
   ]
  },
  {
   "cell_type": "code",
   "execution_count": 6,
   "metadata": {},
   "outputs": [],
   "source": [
    "!fastqc --quiet --threads 4 --outdir data/bac_data/FASTQC --format fastq data/bac_data/*.fastq.gz"
   ]
  },
  {
   "cell_type": "code",
   "execution_count": 7,
   "metadata": {},
   "outputs": [],
   "source": [
    "!fastqc --quiet --threads 4 --outdir data/fun_data/FASTQC --format fastq data/fun_data/*.fastq.gz"
   ]
  },
  {
   "cell_type": "markdown",
   "metadata": {},
   "source": [
    "Then do the same for fungal data."
   ]
  },
  {
   "cell_type": "code",
   "execution_count": null,
   "metadata": {},
   "outputs": [],
   "source": [
    "!fastqc -h"
   ]
  },
  {
   "cell_type": "markdown",
   "metadata": {},
   "source": [
    "After the QC has been done, we can combine the reports, separately for bacterial and fungal data.\n",
    "\n",
    "First bacterial data"
   ]
  },
  {
   "cell_type": "code",
   "execution_count": 8,
   "metadata": {},
   "outputs": [
    {
     "name": "stdout",
     "output_type": "stream",
     "text": [
      "\n",
      "  \u001b[34m/\u001b[0m\u001b[32m/\u001b[0m\u001b[31m/\u001b[0m \u001b]8;id=10180;https://multiqc.info\u001b\\\u001b[1mMultiQC\u001b[0m\u001b]8;;\u001b\\ 🔍 \u001b[2m| v1.14\u001b[0m\n",
      "\n",
      "\u001b[34m|           multiqc\u001b[0m | Search path : /scratch/project_2007145/antkark/MMB-117/MMB-117_EnvironmentalMicrobiology/data/bac_data/FASTQC/A001-A-agri-bac-TGAAGGAT-AACTGACT-MMB17-course-run20230203R_S1_L001_R1_001_fastqc.html\n",
      "\u001b[34m|           multiqc\u001b[0m | Search path : /scratch/project_2007145/antkark/MMB-117/MMB-117_EnvironmentalMicrobiology/data/bac_data/FASTQC/A001-A-agri-bac-TGAAGGAT-AACTGACT-MMB17-course-run20230203R_S1_L001_R1_001_fastqc.zip\n",
      "\u001b[34m|           multiqc\u001b[0m | Search path : /scratch/project_2007145/antkark/MMB-117/MMB-117_EnvironmentalMicrobiology/data/bac_data/FASTQC/A001-A-agri-bac-TGAAGGAT-AACTGACT-MMB17-course-run20230203R_S1_L001_R2_001_fastqc.html\n",
      "\u001b[34m|           multiqc\u001b[0m | Search path : /scratch/project_2007145/antkark/MMB-117/MMB-117_EnvironmentalMicrobiology/data/bac_data/FASTQC/A001-A-agri-bac-TGAAGGAT-AACTGACT-MMB17-course-run20230203R_S1_L001_R2_001_fastqc.zip\n",
      "\u001b[34m|           multiqc\u001b[0m | Search path : /scratch/project_2007145/antkark/MMB-117/MMB-117_EnvironmentalMicrobiology/data/bac_data/FASTQC/A003-A-fore-bac-TGAAGGAT-GCACTCTG-MMB17-course-run20230203R_S3_L001_R1_001_fastqc.html\n",
      "\u001b[34m|           multiqc\u001b[0m | Search path : /scratch/project_2007145/antkark/MMB-117/MMB-117_EnvironmentalMicrobiology/data/bac_data/FASTQC/A003-A-fore-bac-TGAAGGAT-GCACTCTG-MMB17-course-run20230203R_S3_L001_R1_001_fastqc.zip\n",
      "\u001b[34m|           multiqc\u001b[0m | Search path : /scratch/project_2007145/antkark/MMB-117/MMB-117_EnvironmentalMicrobiology/data/bac_data/FASTQC/A003-A-fore-bac-TGAAGGAT-GCACTCTG-MMB17-course-run20230203R_S3_L001_R2_001_fastqc.html\n",
      "\u001b[34m|           multiqc\u001b[0m | Search path : /scratch/project_2007145/antkark/MMB-117/MMB-117_EnvironmentalMicrobiology/data/bac_data/FASTQC/A003-A-fore-bac-TGAAGGAT-GCACTCTG-MMB17-course-run20230203R_S3_L001_R2_001_fastqc.zip\n",
      "\u001b[34m|           multiqc\u001b[0m | Search path : /scratch/project_2007145/antkark/MMB-117/MMB-117_EnvironmentalMicrobiology/data/bac_data/FASTQC/A005-A-park-bac-TGAAGGAT-CGTACACA-MMB17-course-run20230203R_S5_L001_R1_001_fastqc.html\n",
      "\u001b[34m|           multiqc\u001b[0m | Search path : /scratch/project_2007145/antkark/MMB-117/MMB-117_EnvironmentalMicrobiology/data/bac_data/FASTQC/A005-A-park-bac-TGAAGGAT-CGTACACA-MMB17-course-run20230203R_S5_L001_R1_001_fastqc.zip\n",
      "\u001b[34m|           multiqc\u001b[0m | Search path : /scratch/project_2007145/antkark/MMB-117/MMB-117_EnvironmentalMicrobiology/data/bac_data/FASTQC/A005-A-park-bac-TGAAGGAT-CGTACACA-MMB17-course-run20230203R_S5_L001_R2_001_fastqc.html\n",
      "\u001b[34m|           multiqc\u001b[0m | Search path : /scratch/project_2007145/antkark/MMB-117/MMB-117_EnvironmentalMicrobiology/data/bac_data/FASTQC/A005-A-park-bac-TGAAGGAT-CGTACACA-MMB17-course-run20230203R_S5_L001_R2_001_fastqc.zip\n",
      "\u001b[34m|           multiqc\u001b[0m | Search path : /scratch/project_2007145/antkark/MMB-117/MMB-117_EnvironmentalMicrobiology/data/bac_data/FASTQC/A007-A-NC-bac-TGAAGGAT-GTGTTCGC-MMB17-course-run20230203R_S7_L001_R1_001_fastqc.html\n",
      "\u001b[34m|           multiqc\u001b[0m | Search path : /scratch/project_2007145/antkark/MMB-117/MMB-117_EnvironmentalMicrobiology/data/bac_data/FASTQC/A007-A-NC-bac-TGAAGGAT-GTGTTCGC-MMB17-course-run20230203R_S7_L001_R1_001_fastqc.zip\n",
      "\u001b[34m|           multiqc\u001b[0m | Search path : /scratch/project_2007145/antkark/MMB-117/MMB-117_EnvironmentalMicrobiology/data/bac_data/FASTQC/A007-A-NC-bac-TGAAGGAT-GTGTTCGC-MMB17-course-run20230203R_S7_L001_R2_001_fastqc.html\n",
      "\u001b[34m|           multiqc\u001b[0m | Search path : /scratch/project_2007145/antkark/MMB-117/MMB-117_EnvironmentalMicrobiology/data/bac_data/FASTQC/A007-A-NC-bac-TGAAGGAT-GTGTTCGC-MMB17-course-run20230203R_S7_L001_R2_001_fastqc.zip\n",
      "\u001b[34m|           multiqc\u001b[0m | Search path : /scratch/project_2007145/antkark/MMB-117/MMB-117_EnvironmentalMicrobiology/data/bac_data/FASTQC/A009-B-park-bac-CACTTCGT-AACTGACT-MMB17-course-run20230203R_S9_L001_R1_001_fastqc.html\n",
      "\u001b[34m|           multiqc\u001b[0m | Search path : /scratch/project_2007145/antkark/MMB-117/MMB-117_EnvironmentalMicrobiology/data/bac_data/FASTQC/A009-B-park-bac-CACTTCGT-AACTGACT-MMB17-course-run20230203R_S9_L001_R1_001_fastqc.zip\n",
      "\u001b[34m|           multiqc\u001b[0m | Search path : /scratch/project_2007145/antkark/MMB-117/MMB-117_EnvironmentalMicrobiology/data/bac_data/FASTQC/A009-B-park-bac-CACTTCGT-AACTGACT-MMB17-course-run20230203R_S9_L001_R2_001_fastqc.html\n",
      "\u001b[34m|           multiqc\u001b[0m | Search path : /scratch/project_2007145/antkark/MMB-117/MMB-117_EnvironmentalMicrobiology/data/bac_data/FASTQC/A009-B-park-bac-CACTTCGT-AACTGACT-MMB17-course-run20230203R_S9_L001_R2_001_fastqc.zip\n",
      "\u001b[34m|           multiqc\u001b[0m | Search path : /scratch/project_2007145/antkark/MMB-117/MMB-117_EnvironmentalMicrobiology/data/bac_data/FASTQC/A010-B-agri-bac-CACTTCGT-TGAGAGAA-MMB17-course-run20230203R_S10_L001_R1_001_fastqc.html\n",
      "\u001b[34m|           multiqc\u001b[0m | Search path : /scratch/project_2007145/antkark/MMB-117/MMB-117_EnvironmentalMicrobiology/data/bac_data/FASTQC/A010-B-agri-bac-CACTTCGT-TGAGAGAA-MMB17-course-run20230203R_S10_L001_R1_001_fastqc.zip\n",
      "\u001b[34m|           multiqc\u001b[0m | Search path : /scratch/project_2007145/antkark/MMB-117/MMB-117_EnvironmentalMicrobiology/data/bac_data/FASTQC/A010-B-agri-bac-CACTTCGT-TGAGAGAA-MMB17-course-run20230203R_S10_L001_R2_001_fastqc.html\n",
      "\u001b[34m|           multiqc\u001b[0m | Search path : /scratch/project_2007145/antkark/MMB-117/MMB-117_EnvironmentalMicrobiology/data/bac_data/FASTQC/A010-B-agri-bac-CACTTCGT-TGAGAGAA-MMB17-course-run20230203R_S10_L001_R2_001_fastqc.zip\n",
      "\u001b[34m|           multiqc\u001b[0m | Search path : /scratch/project_2007145/antkark/MMB-117/MMB-117_EnvironmentalMicrobiology/data/bac_data/FASTQC/A011-B-fore-bac-CACTTCGT-GCACTCTG-MMB17-course-run20230203R_S11_L001_R1_001_fastqc.html\n",
      "\u001b[34m|           multiqc\u001b[0m | Search path : /scratch/project_2007145/antkark/MMB-117/MMB-117_EnvironmentalMicrobiology/data/bac_data/FASTQC/A011-B-fore-bac-CACTTCGT-GCACTCTG-MMB17-course-run20230203R_S11_L001_R1_001_fastqc.zip\n",
      "\u001b[34m|           multiqc\u001b[0m | Search path : /scratch/project_2007145/antkark/MMB-117/MMB-117_EnvironmentalMicrobiology/data/bac_data/FASTQC/A011-B-fore-bac-CACTTCGT-GCACTCTG-MMB17-course-run20230203R_S11_L001_R2_001_fastqc.html\n",
      "\u001b[34m|           multiqc\u001b[0m | Search path : /scratch/project_2007145/antkark/MMB-117/MMB-117_EnvironmentalMicrobiology/data/bac_data/FASTQC/A011-B-fore-bac-CACTTCGT-GCACTCTG-MMB17-course-run20230203R_S11_L001_R2_001_fastqc.zip\n",
      "\u001b[34m|           multiqc\u001b[0m | Search path : /scratch/project_2007145/antkark/MMB-117/MMB-117_EnvironmentalMicrobiology/data/bac_data/FASTQC/A015-B-NC-bac-CACTTCGT-GTGTTCGC-MMB17-course-run20230203R_S15_L001_R1_001_fastqc.html\n",
      "\u001b[34m|           multiqc\u001b[0m | Search path : /scratch/project_2007145/antkark/MMB-117/MMB-117_EnvironmentalMicrobiology/data/bac_data/FASTQC/A015-B-NC-bac-CACTTCGT-GTGTTCGC-MMB17-course-run20230203R_S15_L001_R1_001_fastqc.zip\n",
      "\u001b[34m|           multiqc\u001b[0m | Search path : /scratch/project_2007145/antkark/MMB-117/MMB-117_EnvironmentalMicrobiology/data/bac_data/FASTQC/A015-B-NC-bac-CACTTCGT-GTGTTCGC-MMB17-course-run20230203R_S15_L001_R2_001_fastqc.html\n",
      "\u001b[34m|           multiqc\u001b[0m | Search path : /scratch/project_2007145/antkark/MMB-117/MMB-117_EnvironmentalMicrobiology/data/bac_data/FASTQC/A015-B-NC-bac-CACTTCGT-GTGTTCGC-MMB17-course-run20230203R_S15_L001_R2_001_fastqc.zip\n",
      "\u001b[34m|           multiqc\u001b[0m | Search path : /scratch/project_2007145/antkark/MMB-117/MMB-117_EnvironmentalMicrobiology/data/bac_data/FASTQC/A017-C-park-bac-ACCACCAC-AACTGACT-MMB17-course-run20230203R_S17_L001_R1_001_fastqc.html\n",
      "\u001b[34m|           multiqc\u001b[0m | Search path : /scratch/project_2007145/antkark/MMB-117/MMB-117_EnvironmentalMicrobiology/data/bac_data/FASTQC/A017-C-park-bac-ACCACCAC-AACTGACT-MMB17-course-run20230203R_S17_L001_R1_001_fastqc.zip\n",
      "\u001b[34m|           multiqc\u001b[0m | Search path : /scratch/project_2007145/antkark/MMB-117/MMB-117_EnvironmentalMicrobiology/data/bac_data/FASTQC/A017-C-park-bac-ACCACCAC-AACTGACT-MMB17-course-run20230203R_S17_L001_R2_001_fastqc.html\n",
      "\u001b[34m|           multiqc\u001b[0m | Search path : /scratch/project_2007145/antkark/MMB-117/MMB-117_EnvironmentalMicrobiology/data/bac_data/FASTQC/A017-C-park-bac-ACCACCAC-AACTGACT-MMB17-course-run20230203R_S17_L001_R2_001_fastqc.zip\n",
      "\u001b[34m|           multiqc\u001b[0m | Search path : /scratch/project_2007145/antkark/MMB-117/MMB-117_EnvironmentalMicrobiology/data/bac_data/FASTQC/A019-C-agri-bac-ACCACCAC-GCACTCTG-MMB17-course-run20230203R_S19_L001_R1_001_fastqc.html\n",
      "\u001b[34m|           multiqc\u001b[0m | Search path : /scratch/project_2007145/antkark/MMB-117/MMB-117_EnvironmentalMicrobiology/data/bac_data/FASTQC/A019-C-agri-bac-ACCACCAC-GCACTCTG-MMB17-course-run20230203R_S19_L001_R1_001_fastqc.zip\n",
      "\u001b[34m|           multiqc\u001b[0m | Search path : /scratch/project_2007145/antkark/MMB-117/MMB-117_EnvironmentalMicrobiology/data/bac_data/FASTQC/A019-C-agri-bac-ACCACCAC-GCACTCTG-MMB17-course-run20230203R_S19_L001_R2_001_fastqc.html\n",
      "\u001b[34m|           multiqc\u001b[0m | Search path : /scratch/project_2007145/antkark/MMB-117/MMB-117_EnvironmentalMicrobiology/data/bac_data/FASTQC/A019-C-agri-bac-ACCACCAC-GCACTCTG-MMB17-course-run20230203R_S19_L001_R2_001_fastqc.zip\n",
      "\u001b[34m|           multiqc\u001b[0m | Search path : /scratch/project_2007145/antkark/MMB-117/MMB-117_EnvironmentalMicrobiology/data/bac_data/FASTQC/A021-C-fore-bac-ACCACCAC-CGTACACA-MMB17-course-run20230203R_S21_L001_R1_001_fastqc.html\n",
      "\u001b[34m|           multiqc\u001b[0m | Search path : /scratch/project_2007145/antkark/MMB-117/MMB-117_EnvironmentalMicrobiology/data/bac_data/FASTQC/A021-C-fore-bac-ACCACCAC-CGTACACA-MMB17-course-run20230203R_S21_L001_R1_001_fastqc.zip\n",
      "\u001b[34m|           multiqc\u001b[0m | Search path : /scratch/project_2007145/antkark/MMB-117/MMB-117_EnvironmentalMicrobiology/data/bac_data/FASTQC/A021-C-fore-bac-ACCACCAC-CGTACACA-MMB17-course-run20230203R_S21_L001_R2_001_fastqc.html\n",
      "\u001b[34m|           multiqc\u001b[0m | Search path : /scratch/project_2007145/antkark/MMB-117/MMB-117_EnvironmentalMicrobiology/data/bac_data/FASTQC/A021-C-fore-bac-ACCACCAC-CGTACACA-MMB17-course-run20230203R_S21_L001_R2_001_fastqc.zip\n",
      "\u001b[34m|           multiqc\u001b[0m | Search path : /scratch/project_2007145/antkark/MMB-117/MMB-117_EnvironmentalMicrobiology/data/bac_data/FASTQC/A023-C-NC-bac-ACCACCAC-GTGTTCGC-MMB17-course-run20230203R_S23_L001_R1_001_fastqc.html\n",
      "\u001b[34m|           multiqc\u001b[0m | Search path : /scratch/project_2007145/antkark/MMB-117/MMB-117_EnvironmentalMicrobiology/data/bac_data/FASTQC/A023-C-NC-bac-ACCACCAC-GTGTTCGC-MMB17-course-run20230203R_S23_L001_R1_001_fastqc.zip\n",
      "\u001b[34m|           multiqc\u001b[0m | Search path : /scratch/project_2007145/antkark/MMB-117/MMB-117_EnvironmentalMicrobiology/data/bac_data/FASTQC/A023-C-NC-bac-ACCACCAC-GTGTTCGC-MMB17-course-run20230203R_S23_L001_R2_001_fastqc.html\n",
      "\u001b[34m|           multiqc\u001b[0m | Search path : /scratch/project_2007145/antkark/MMB-117/MMB-117_EnvironmentalMicrobiology/data/bac_data/FASTQC/A023-C-NC-bac-ACCACCAC-GTGTTCGC-MMB17-course-run20230203R_S23_L001_R2_001_fastqc.zip\n",
      "\u001b[34m|           multiqc\u001b[0m | Search path : /scratch/project_2007145/antkark/MMB-117/MMB-117_EnvironmentalMicrobiology/data/bac_data/FASTQC/A025-D-agri-bac-AGGTCTCC-AACTGACT-MMB17-course-run20230203R_S25_L001_R1_001_fastqc.html\n",
      "\u001b[34m|           multiqc\u001b[0m | Search path : /scratch/project_2007145/antkark/MMB-117/MMB-117_EnvironmentalMicrobiology/data/bac_data/FASTQC/A025-D-agri-bac-AGGTCTCC-AACTGACT-MMB17-course-run20230203R_S25_L001_R1_001_fastqc.zip\n",
      "\u001b[34m|           multiqc\u001b[0m | Search path : /scratch/project_2007145/antkark/MMB-117/MMB-117_EnvironmentalMicrobiology/data/bac_data/FASTQC/A025-D-agri-bac-AGGTCTCC-AACTGACT-MMB17-course-run20230203R_S25_L001_R2_001_fastqc.html\n",
      "\u001b[34m|           multiqc\u001b[0m | Search path : /scratch/project_2007145/antkark/MMB-117/MMB-117_EnvironmentalMicrobiology/data/bac_data/FASTQC/A025-D-agri-bac-AGGTCTCC-AACTGACT-MMB17-course-run20230203R_S25_L001_R2_001_fastqc.zip\n",
      "\u001b[34m|           multiqc\u001b[0m | Search path : /scratch/project_2007145/antkark/MMB-117/MMB-117_EnvironmentalMicrobiology/data/bac_data/FASTQC/A026-D-fore-bac-AGGTCTCC-TGAGAGAA-MMB17-course-run20230203R_S26_L001_R1_001_fastqc.html\n",
      "\u001b[34m|           multiqc\u001b[0m | Search path : /scratch/project_2007145/antkark/MMB-117/MMB-117_EnvironmentalMicrobiology/data/bac_data/FASTQC/A026-D-fore-bac-AGGTCTCC-TGAGAGAA-MMB17-course-run20230203R_S26_L001_R1_001_fastqc.zip\n",
      "\u001b[34m|           multiqc\u001b[0m | Search path : /scratch/project_2007145/antkark/MMB-117/MMB-117_EnvironmentalMicrobiology/data/bac_data/FASTQC/A026-D-fore-bac-AGGTCTCC-TGAGAGAA-MMB17-course-run20230203R_S26_L001_R2_001_fastqc.html\n",
      "\u001b[34m|           multiqc\u001b[0m | Search path : /scratch/project_2007145/antkark/MMB-117/MMB-117_EnvironmentalMicrobiology/data/bac_data/FASTQC/A026-D-fore-bac-AGGTCTCC-TGAGAGAA-MMB17-course-run20230203R_S26_L001_R2_001_fastqc.zip\n",
      "\u001b[34m|           multiqc\u001b[0m | Search path : /scratch/project_2007145/antkark/MMB-117/MMB-117_EnvironmentalMicrobiology/data/bac_data/FASTQC/A027-D-park-bac-AGGTCTCC-GCACTCTG-MMB17-course-run20230203R_S27_L001_R1_001_fastqc.html\n",
      "\u001b[34m|           multiqc\u001b[0m | Search path : /scratch/project_2007145/antkark/MMB-117/MMB-117_EnvironmentalMicrobiology/data/bac_data/FASTQC/A027-D-park-bac-AGGTCTCC-GCACTCTG-MMB17-course-run20230203R_S27_L001_R1_001_fastqc.zip\n",
      "\u001b[34m|           multiqc\u001b[0m | Search path : /scratch/project_2007145/antkark/MMB-117/MMB-117_EnvironmentalMicrobiology/data/bac_data/FASTQC/A027-D-park-bac-AGGTCTCC-GCACTCTG-MMB17-course-run20230203R_S27_L001_R2_001_fastqc.html\n",
      "\u001b[34m|           multiqc\u001b[0m | Search path : /scratch/project_2007145/antkark/MMB-117/MMB-117_EnvironmentalMicrobiology/data/bac_data/FASTQC/A027-D-park-bac-AGGTCTCC-GCACTCTG-MMB17-course-run20230203R_S27_L001_R2_001_fastqc.zip\n",
      "\u001b[34m|           multiqc\u001b[0m | Search path : /scratch/project_2007145/antkark/MMB-117/MMB-117_EnvironmentalMicrobiology/data/bac_data/FASTQC/A028-D-NC-bac-AGGTCTCC-CTTGGTTA-MMB17-course-run20230203R_S28_L001_R1_001_fastqc.html\n",
      "\u001b[34m|           multiqc\u001b[0m | Search path : /scratch/project_2007145/antkark/MMB-117/MMB-117_EnvironmentalMicrobiology/data/bac_data/FASTQC/A028-D-NC-bac-AGGTCTCC-CTTGGTTA-MMB17-course-run20230203R_S28_L001_R1_001_fastqc.zip\n",
      "\u001b[34m|           multiqc\u001b[0m | Search path : /scratch/project_2007145/antkark/MMB-117/MMB-117_EnvironmentalMicrobiology/data/bac_data/FASTQC/A028-D-NC-bac-AGGTCTCC-CTTGGTTA-MMB17-course-run20230203R_S28_L001_R2_001_fastqc.html\n",
      "\u001b[34m|           multiqc\u001b[0m | Search path : /scratch/project_2007145/antkark/MMB-117/MMB-117_EnvironmentalMicrobiology/data/bac_data/FASTQC/A028-D-NC-bac-AGGTCTCC-CTTGGTTA-MMB17-course-run20230203R_S28_L001_R2_001_fastqc.zip\n",
      "\u001b[34m|           multiqc\u001b[0m | Search path : /scratch/project_2007145/antkark/MMB-117/MMB-117_EnvironmentalMicrobiology/data/bac_data/FASTQC/A033-E-agri-bac-CTTGGTTG-AACTGACT-MMB17-course-run20230203R_S33_L001_R1_001_fastqc.html\n",
      "\u001b[34m|           multiqc\u001b[0m | Search path : /scratch/project_2007145/antkark/MMB-117/MMB-117_EnvironmentalMicrobiology/data/bac_data/FASTQC/A033-E-agri-bac-CTTGGTTG-AACTGACT-MMB17-course-run20230203R_S33_L001_R1_001_fastqc.zip\n",
      "\u001b[34m|           multiqc\u001b[0m | Search path : /scratch/project_2007145/antkark/MMB-117/MMB-117_EnvironmentalMicrobiology/data/bac_data/FASTQC/A033-E-agri-bac-CTTGGTTG-AACTGACT-MMB17-course-run20230203R_S33_L001_R2_001_fastqc.html\n",
      "\u001b[34m|           multiqc\u001b[0m | Search path : /scratch/project_2007145/antkark/MMB-117/MMB-117_EnvironmentalMicrobiology/data/bac_data/FASTQC/A033-E-agri-bac-CTTGGTTG-AACTGACT-MMB17-course-run20230203R_S33_L001_R2_001_fastqc.zip\n",
      "\u001b[34m|           multiqc\u001b[0m | Search path : /scratch/project_2007145/antkark/MMB-117/MMB-117_EnvironmentalMicrobiology/data/bac_data/FASTQC/A034-E-park-bac-CTTGGTTG-TGAGAGAA-MMB17-course-run20230203R_S34_L001_R1_001_fastqc.html\n",
      "\u001b[34m|           multiqc\u001b[0m | Search path : /scratch/project_2007145/antkark/MMB-117/MMB-117_EnvironmentalMicrobiology/data/bac_data/FASTQC/A034-E-park-bac-CTTGGTTG-TGAGAGAA-MMB17-course-run20230203R_S34_L001_R1_001_fastqc.zip\n",
      "\u001b[34m|           multiqc\u001b[0m | Search path : /scratch/project_2007145/antkark/MMB-117/MMB-117_EnvironmentalMicrobiology/data/bac_data/FASTQC/A034-E-park-bac-CTTGGTTG-TGAGAGAA-MMB17-course-run20230203R_S34_L001_R2_001_fastqc.html\n",
      "\u001b[34m|           multiqc\u001b[0m | Search path : /scratch/project_2007145/antkark/MMB-117/MMB-117_EnvironmentalMicrobiology/data/bac_data/FASTQC/A034-E-park-bac-CTTGGTTG-TGAGAGAA-MMB17-course-run20230203R_S34_L001_R2_001_fastqc.zip\n",
      "\u001b[34m|           multiqc\u001b[0m | Search path : /scratch/project_2007145/antkark/MMB-117/MMB-117_EnvironmentalMicrobiology/data/bac_data/FASTQC/A035-E-fore-bac-CTTGGTTG-GCACTCTG-MMB17-course-run20230203R_S35_L001_R1_001_fastqc.html\n",
      "\u001b[34m|           multiqc\u001b[0m | Search path : /scratch/project_2007145/antkark/MMB-117/MMB-117_EnvironmentalMicrobiology/data/bac_data/FASTQC/A035-E-fore-bac-CTTGGTTG-GCACTCTG-MMB17-course-run20230203R_S35_L001_R1_001_fastqc.zip\n",
      "\u001b[34m|           multiqc\u001b[0m | Search path : /scratch/project_2007145/antkark/MMB-117/MMB-117_EnvironmentalMicrobiology/data/bac_data/FASTQC/A035-E-fore-bac-CTTGGTTG-GCACTCTG-MMB17-course-run20230203R_S35_L001_R2_001_fastqc.html\n",
      "\u001b[34m|           multiqc\u001b[0m | Search path : /scratch/project_2007145/antkark/MMB-117/MMB-117_EnvironmentalMicrobiology/data/bac_data/FASTQC/A035-E-fore-bac-CTTGGTTG-GCACTCTG-MMB17-course-run20230203R_S35_L001_R2_001_fastqc.zip\n",
      "\u001b[34m|           multiqc\u001b[0m | Search path : /scratch/project_2007145/antkark/MMB-117/MMB-117_EnvironmentalMicrobiology/data/bac_data/FASTQC/A039-E-NC-bac-CTTGGTTG-GTGTTCGC-MMB17-course-run20230203R_S39_L001_R1_001_fastqc.html\n",
      "\u001b[34m|           multiqc\u001b[0m | Search path : /scratch/project_2007145/antkark/MMB-117/MMB-117_EnvironmentalMicrobiology/data/bac_data/FASTQC/A039-E-NC-bac-CTTGGTTG-GTGTTCGC-MMB17-course-run20230203R_S39_L001_R1_001_fastqc.zip\n",
      "\u001b[34m|           multiqc\u001b[0m | Search path : /scratch/project_2007145/antkark/MMB-117/MMB-117_EnvironmentalMicrobiology/data/bac_data/FASTQC/A039-E-NC-bac-CTTGGTTG-GTGTTCGC-MMB17-course-run20230203R_S39_L001_R2_001_fastqc.html\n",
      "\u001b[34m|           multiqc\u001b[0m | Search path : /scratch/project_2007145/antkark/MMB-117/MMB-117_EnvironmentalMicrobiology/data/bac_data/FASTQC/A039-E-NC-bac-CTTGGTTG-GTGTTCGC-MMB17-course-run20230203R_S39_L001_R2_001_fastqc.zip\n",
      "\u001b[2K\u001b[34m|\u001b[0m         \u001b[34msearching\u001b[0m | \u001b[90m━━━━━━━━━━━━━━━━━━━━━━━━━━━━━━━━━━━━━━━━\u001b[0m \u001b[35m100%\u001b[0m \u001b[32m80/80\u001b[0m  \u001b[0m0m  \n",
      "\u001b[?25h\u001b[34m|            fastqc\u001b[0m | Found 40 reports\n",
      "\u001b[34m|           multiqc\u001b[0m | Compressing plot data\n",
      "\u001b[34m|           multiqc\u001b[0m | Report      : data/bac_data/FASTQC/multiqc_report.html\n",
      "\u001b[34m|           multiqc\u001b[0m | Data        : data/bac_data/FASTQC/multiqc_data\n",
      "\u001b[34m|           multiqc\u001b[0m | MultiQC complete\n"
     ]
    }
   ],
   "source": [
    "!multiqc --outdir data/bac_data/FASTQC --interactive data/bac_data/FASTQC/*"
   ]
  },
  {
   "cell_type": "code",
   "execution_count": 9,
   "metadata": {},
   "outputs": [
    {
     "name": "stdout",
     "output_type": "stream",
     "text": [
      "\n",
      "  \u001b[34m/\u001b[0m\u001b[32m/\u001b[0m\u001b[31m/\u001b[0m \u001b]8;id=304958;https://multiqc.info\u001b\\\u001b[1mMultiQC\u001b[0m\u001b]8;;\u001b\\ 🔍 \u001b[2m| v1.14\u001b[0m\n",
      "\n",
      "\u001b[34m|           multiqc\u001b[0m | Search path : /scratch/project_2007145/antkark/MMB-117/MMB-117_EnvironmentalMicrobiology/data/fun_data/FASTQC/A002-A-agri-fun-TGAAGGAT-TGAGAGAA-MMB17-course-run20230203R_S2_L001_R1_001_fastqc.html\n",
      "\u001b[34m|           multiqc\u001b[0m | Search path : /scratch/project_2007145/antkark/MMB-117/MMB-117_EnvironmentalMicrobiology/data/fun_data/FASTQC/A002-A-agri-fun-TGAAGGAT-TGAGAGAA-MMB17-course-run20230203R_S2_L001_R1_001_fastqc.zip\n",
      "\u001b[34m|           multiqc\u001b[0m | Search path : /scratch/project_2007145/antkark/MMB-117/MMB-117_EnvironmentalMicrobiology/data/fun_data/FASTQC/A002-A-agri-fun-TGAAGGAT-TGAGAGAA-MMB17-course-run20230203R_S2_L001_R2_001_fastqc.html\n",
      "\u001b[34m|           multiqc\u001b[0m | Search path : /scratch/project_2007145/antkark/MMB-117/MMB-117_EnvironmentalMicrobiology/data/fun_data/FASTQC/A002-A-agri-fun-TGAAGGAT-TGAGAGAA-MMB17-course-run20230203R_S2_L001_R2_001_fastqc.zip\n",
      "\u001b[34m|           multiqc\u001b[0m | Search path : /scratch/project_2007145/antkark/MMB-117/MMB-117_EnvironmentalMicrobiology/data/fun_data/FASTQC/A004-A-fore-fun-TGAAGGAT-CTTGGTTA-MMB17-course-run20230203R_S4_L001_R1_001_fastqc.html\n",
      "\u001b[34m|           multiqc\u001b[0m | Search path : /scratch/project_2007145/antkark/MMB-117/MMB-117_EnvironmentalMicrobiology/data/fun_data/FASTQC/A004-A-fore-fun-TGAAGGAT-CTTGGTTA-MMB17-course-run20230203R_S4_L001_R1_001_fastqc.zip\n",
      "\u001b[34m|           multiqc\u001b[0m | Search path : /scratch/project_2007145/antkark/MMB-117/MMB-117_EnvironmentalMicrobiology/data/fun_data/FASTQC/A004-A-fore-fun-TGAAGGAT-CTTGGTTA-MMB17-course-run20230203R_S4_L001_R2_001_fastqc.html\n",
      "\u001b[34m|           multiqc\u001b[0m | Search path : /scratch/project_2007145/antkark/MMB-117/MMB-117_EnvironmentalMicrobiology/data/fun_data/FASTQC/A004-A-fore-fun-TGAAGGAT-CTTGGTTA-MMB17-course-run20230203R_S4_L001_R2_001_fastqc.zip\n",
      "\u001b[34m|           multiqc\u001b[0m | Search path : /scratch/project_2007145/antkark/MMB-117/MMB-117_EnvironmentalMicrobiology/data/fun_data/FASTQC/A006-A-park-fun-TGAAGGAT-TAGACGAC-MMB17-course-run20230203R_S6_L001_R1_001_fastqc.html\n",
      "\u001b[34m|           multiqc\u001b[0m | Search path : /scratch/project_2007145/antkark/MMB-117/MMB-117_EnvironmentalMicrobiology/data/fun_data/FASTQC/A006-A-park-fun-TGAAGGAT-TAGACGAC-MMB17-course-run20230203R_S6_L001_R1_001_fastqc.zip\n",
      "\u001b[34m|           multiqc\u001b[0m | Search path : /scratch/project_2007145/antkark/MMB-117/MMB-117_EnvironmentalMicrobiology/data/fun_data/FASTQC/A006-A-park-fun-TGAAGGAT-TAGACGAC-MMB17-course-run20230203R_S6_L001_R2_001_fastqc.html\n",
      "\u001b[34m|           multiqc\u001b[0m | Search path : /scratch/project_2007145/antkark/MMB-117/MMB-117_EnvironmentalMicrobiology/data/fun_data/FASTQC/A006-A-park-fun-TGAAGGAT-TAGACGAC-MMB17-course-run20230203R_S6_L001_R2_001_fastqc.zip\n",
      "\u001b[34m|           multiqc\u001b[0m | Search path : /scratch/project_2007145/antkark/MMB-117/MMB-117_EnvironmentalMicrobiology/data/fun_data/FASTQC/A008-A-NC-fun-TGAAGGAT-ATCCCTGG-MMB17-course-run20230203R_S8_L001_R1_001_fastqc.html\n",
      "\u001b[34m|           multiqc\u001b[0m | Search path : /scratch/project_2007145/antkark/MMB-117/MMB-117_EnvironmentalMicrobiology/data/fun_data/FASTQC/A008-A-NC-fun-TGAAGGAT-ATCCCTGG-MMB17-course-run20230203R_S8_L001_R1_001_fastqc.zip\n",
      "\u001b[34m|           multiqc\u001b[0m | Search path : /scratch/project_2007145/antkark/MMB-117/MMB-117_EnvironmentalMicrobiology/data/fun_data/FASTQC/A008-A-NC-fun-TGAAGGAT-ATCCCTGG-MMB17-course-run20230203R_S8_L001_R2_001_fastqc.html\n",
      "\u001b[34m|           multiqc\u001b[0m | Search path : /scratch/project_2007145/antkark/MMB-117/MMB-117_EnvironmentalMicrobiology/data/fun_data/FASTQC/A008-A-NC-fun-TGAAGGAT-ATCCCTGG-MMB17-course-run20230203R_S8_L001_R2_001_fastqc.zip\n",
      "\u001b[34m|           multiqc\u001b[0m | Search path : /scratch/project_2007145/antkark/MMB-117/MMB-117_EnvironmentalMicrobiology/data/fun_data/FASTQC/A012-B-park-fun-CACTTCGT-CTTGGTTA-MMB17-course-run20230203R_S12_L001_R1_001_fastqc.html\n",
      "\u001b[34m|           multiqc\u001b[0m | Search path : /scratch/project_2007145/antkark/MMB-117/MMB-117_EnvironmentalMicrobiology/data/fun_data/FASTQC/A012-B-park-fun-CACTTCGT-CTTGGTTA-MMB17-course-run20230203R_S12_L001_R1_001_fastqc.zip\n",
      "\u001b[34m|           multiqc\u001b[0m | Search path : /scratch/project_2007145/antkark/MMB-117/MMB-117_EnvironmentalMicrobiology/data/fun_data/FASTQC/A012-B-park-fun-CACTTCGT-CTTGGTTA-MMB17-course-run20230203R_S12_L001_R2_001_fastqc.html\n",
      "\u001b[34m|           multiqc\u001b[0m | Search path : /scratch/project_2007145/antkark/MMB-117/MMB-117_EnvironmentalMicrobiology/data/fun_data/FASTQC/A012-B-park-fun-CACTTCGT-CTTGGTTA-MMB17-course-run20230203R_S12_L001_R2_001_fastqc.zip\n",
      "\u001b[34m|           multiqc\u001b[0m | Search path : /scratch/project_2007145/antkark/MMB-117/MMB-117_EnvironmentalMicrobiology/data/fun_data/FASTQC/A013-B-agri-fun-CACTTCGT-CGTACACA-MMB17-course-run20230203R_S13_L001_R1_001_fastqc.html\n",
      "\u001b[34m|           multiqc\u001b[0m | Search path : /scratch/project_2007145/antkark/MMB-117/MMB-117_EnvironmentalMicrobiology/data/fun_data/FASTQC/A013-B-agri-fun-CACTTCGT-CGTACACA-MMB17-course-run20230203R_S13_L001_R1_001_fastqc.zip\n",
      "\u001b[34m|           multiqc\u001b[0m | Search path : /scratch/project_2007145/antkark/MMB-117/MMB-117_EnvironmentalMicrobiology/data/fun_data/FASTQC/A013-B-agri-fun-CACTTCGT-CGTACACA-MMB17-course-run20230203R_S13_L001_R2_001_fastqc.html\n",
      "\u001b[34m|           multiqc\u001b[0m | Search path : /scratch/project_2007145/antkark/MMB-117/MMB-117_EnvironmentalMicrobiology/data/fun_data/FASTQC/A013-B-agri-fun-CACTTCGT-CGTACACA-MMB17-course-run20230203R_S13_L001_R2_001_fastqc.zip\n",
      "\u001b[34m|           multiqc\u001b[0m | Search path : /scratch/project_2007145/antkark/MMB-117/MMB-117_EnvironmentalMicrobiology/data/fun_data/FASTQC/A014-B-fore-fun-CACTTCGT-TAGACGAC-MMB17-course-run20230203R_S14_L001_R1_001_fastqc.html\n",
      "\u001b[34m|           multiqc\u001b[0m | Search path : /scratch/project_2007145/antkark/MMB-117/MMB-117_EnvironmentalMicrobiology/data/fun_data/FASTQC/A014-B-fore-fun-CACTTCGT-TAGACGAC-MMB17-course-run20230203R_S14_L001_R1_001_fastqc.zip\n",
      "\u001b[34m|           multiqc\u001b[0m | Search path : /scratch/project_2007145/antkark/MMB-117/MMB-117_EnvironmentalMicrobiology/data/fun_data/FASTQC/A014-B-fore-fun-CACTTCGT-TAGACGAC-MMB17-course-run20230203R_S14_L001_R2_001_fastqc.html\n",
      "\u001b[34m|           multiqc\u001b[0m | Search path : /scratch/project_2007145/antkark/MMB-117/MMB-117_EnvironmentalMicrobiology/data/fun_data/FASTQC/A014-B-fore-fun-CACTTCGT-TAGACGAC-MMB17-course-run20230203R_S14_L001_R2_001_fastqc.zip\n",
      "\u001b[34m|           multiqc\u001b[0m | Search path : /scratch/project_2007145/antkark/MMB-117/MMB-117_EnvironmentalMicrobiology/data/fun_data/FASTQC/A016-B-NC-fun-CACTTCGT-ATCCCTGG-MMB17-course-run20230203R_S16_L001_R1_001_fastqc.html\n",
      "\u001b[34m|           multiqc\u001b[0m | Search path : /scratch/project_2007145/antkark/MMB-117/MMB-117_EnvironmentalMicrobiology/data/fun_data/FASTQC/A016-B-NC-fun-CACTTCGT-ATCCCTGG-MMB17-course-run20230203R_S16_L001_R1_001_fastqc.zip\n",
      "\u001b[34m|           multiqc\u001b[0m | Search path : /scratch/project_2007145/antkark/MMB-117/MMB-117_EnvironmentalMicrobiology/data/fun_data/FASTQC/A016-B-NC-fun-CACTTCGT-ATCCCTGG-MMB17-course-run20230203R_S16_L001_R2_001_fastqc.html\n",
      "\u001b[34m|           multiqc\u001b[0m | Search path : /scratch/project_2007145/antkark/MMB-117/MMB-117_EnvironmentalMicrobiology/data/fun_data/FASTQC/A016-B-NC-fun-CACTTCGT-ATCCCTGG-MMB17-course-run20230203R_S16_L001_R2_001_fastqc.zip\n",
      "\u001b[34m|           multiqc\u001b[0m | Search path : /scratch/project_2007145/antkark/MMB-117/MMB-117_EnvironmentalMicrobiology/data/fun_data/FASTQC/A018-C-park-fun-ACCACCAC-TGAGAGAA-MMB17-course-run20230203R_S18_L001_R1_001_fastqc.html\n",
      "\u001b[34m|           multiqc\u001b[0m | Search path : /scratch/project_2007145/antkark/MMB-117/MMB-117_EnvironmentalMicrobiology/data/fun_data/FASTQC/A018-C-park-fun-ACCACCAC-TGAGAGAA-MMB17-course-run20230203R_S18_L001_R1_001_fastqc.zip\n",
      "\u001b[34m|           multiqc\u001b[0m | Search path : /scratch/project_2007145/antkark/MMB-117/MMB-117_EnvironmentalMicrobiology/data/fun_data/FASTQC/A018-C-park-fun-ACCACCAC-TGAGAGAA-MMB17-course-run20230203R_S18_L001_R2_001_fastqc.html\n",
      "\u001b[34m|           multiqc\u001b[0m | Search path : /scratch/project_2007145/antkark/MMB-117/MMB-117_EnvironmentalMicrobiology/data/fun_data/FASTQC/A018-C-park-fun-ACCACCAC-TGAGAGAA-MMB17-course-run20230203R_S18_L001_R2_001_fastqc.zip\n",
      "\u001b[34m|           multiqc\u001b[0m | Search path : /scratch/project_2007145/antkark/MMB-117/MMB-117_EnvironmentalMicrobiology/data/fun_data/FASTQC/A020-C-agri-fun-ACCACCAC-CTTGGTTA-MMB17-course-run20230203R_S20_L001_R1_001_fastqc.html\n",
      "\u001b[34m|           multiqc\u001b[0m | Search path : /scratch/project_2007145/antkark/MMB-117/MMB-117_EnvironmentalMicrobiology/data/fun_data/FASTQC/A020-C-agri-fun-ACCACCAC-CTTGGTTA-MMB17-course-run20230203R_S20_L001_R1_001_fastqc.zip\n",
      "\u001b[34m|           multiqc\u001b[0m | Search path : /scratch/project_2007145/antkark/MMB-117/MMB-117_EnvironmentalMicrobiology/data/fun_data/FASTQC/A020-C-agri-fun-ACCACCAC-CTTGGTTA-MMB17-course-run20230203R_S20_L001_R2_001_fastqc.html\n",
      "\u001b[34m|           multiqc\u001b[0m | Search path : /scratch/project_2007145/antkark/MMB-117/MMB-117_EnvironmentalMicrobiology/data/fun_data/FASTQC/A020-C-agri-fun-ACCACCAC-CTTGGTTA-MMB17-course-run20230203R_S20_L001_R2_001_fastqc.zip\n",
      "\u001b[34m|           multiqc\u001b[0m | Search path : /scratch/project_2007145/antkark/MMB-117/MMB-117_EnvironmentalMicrobiology/data/fun_data/FASTQC/A022-C-fore-fun-ACCACCAC-TAGACGAC-MMB17-course-run20230203R_S22_L001_R1_001_fastqc.html\n",
      "\u001b[34m|           multiqc\u001b[0m | Search path : /scratch/project_2007145/antkark/MMB-117/MMB-117_EnvironmentalMicrobiology/data/fun_data/FASTQC/A022-C-fore-fun-ACCACCAC-TAGACGAC-MMB17-course-run20230203R_S22_L001_R1_001_fastqc.zip\n",
      "\u001b[34m|           multiqc\u001b[0m | Search path : /scratch/project_2007145/antkark/MMB-117/MMB-117_EnvironmentalMicrobiology/data/fun_data/FASTQC/A022-C-fore-fun-ACCACCAC-TAGACGAC-MMB17-course-run20230203R_S22_L001_R2_001_fastqc.html\n",
      "\u001b[34m|           multiqc\u001b[0m | Search path : /scratch/project_2007145/antkark/MMB-117/MMB-117_EnvironmentalMicrobiology/data/fun_data/FASTQC/A022-C-fore-fun-ACCACCAC-TAGACGAC-MMB17-course-run20230203R_S22_L001_R2_001_fastqc.zip\n",
      "\u001b[34m|           multiqc\u001b[0m | Search path : /scratch/project_2007145/antkark/MMB-117/MMB-117_EnvironmentalMicrobiology/data/fun_data/FASTQC/A024-C-NC-fun-ACCACCAC-ATCCCTGG-MMB17-course-run20230203R_S24_L001_R1_001_fastqc.html\n",
      "\u001b[34m|           multiqc\u001b[0m | Search path : /scratch/project_2007145/antkark/MMB-117/MMB-117_EnvironmentalMicrobiology/data/fun_data/FASTQC/A024-C-NC-fun-ACCACCAC-ATCCCTGG-MMB17-course-run20230203R_S24_L001_R1_001_fastqc.zip\n",
      "\u001b[34m|           multiqc\u001b[0m | Search path : /scratch/project_2007145/antkark/MMB-117/MMB-117_EnvironmentalMicrobiology/data/fun_data/FASTQC/A024-C-NC-fun-ACCACCAC-ATCCCTGG-MMB17-course-run20230203R_S24_L001_R2_001_fastqc.html\n",
      "\u001b[34m|           multiqc\u001b[0m | Search path : /scratch/project_2007145/antkark/MMB-117/MMB-117_EnvironmentalMicrobiology/data/fun_data/FASTQC/A024-C-NC-fun-ACCACCAC-ATCCCTGG-MMB17-course-run20230203R_S24_L001_R2_001_fastqc.zip\n",
      "\u001b[34m|           multiqc\u001b[0m | Search path : /scratch/project_2007145/antkark/MMB-117/MMB-117_EnvironmentalMicrobiology/data/fun_data/FASTQC/A029-D-agri-fun-AGGTCTCC-CGTACACA-MMB17-course-run20230203R_S29_L001_R1_001_fastqc.html\n",
      "\u001b[34m|           multiqc\u001b[0m | Search path : /scratch/project_2007145/antkark/MMB-117/MMB-117_EnvironmentalMicrobiology/data/fun_data/FASTQC/A029-D-agri-fun-AGGTCTCC-CGTACACA-MMB17-course-run20230203R_S29_L001_R1_001_fastqc.zip\n",
      "\u001b[34m|           multiqc\u001b[0m | Search path : /scratch/project_2007145/antkark/MMB-117/MMB-117_EnvironmentalMicrobiology/data/fun_data/FASTQC/A029-D-agri-fun-AGGTCTCC-CGTACACA-MMB17-course-run20230203R_S29_L001_R2_001_fastqc.html\n",
      "\u001b[34m|           multiqc\u001b[0m | Search path : /scratch/project_2007145/antkark/MMB-117/MMB-117_EnvironmentalMicrobiology/data/fun_data/FASTQC/A029-D-agri-fun-AGGTCTCC-CGTACACA-MMB17-course-run20230203R_S29_L001_R2_001_fastqc.zip\n",
      "\u001b[34m|           multiqc\u001b[0m | Search path : /scratch/project_2007145/antkark/MMB-117/MMB-117_EnvironmentalMicrobiology/data/fun_data/FASTQC/A030-D-fore-fun-AGGTCTCC-TAGACGAC-MMB17-course-run20230203R_S30_L001_R1_001_fastqc.html\n",
      "\u001b[34m|           multiqc\u001b[0m | Search path : /scratch/project_2007145/antkark/MMB-117/MMB-117_EnvironmentalMicrobiology/data/fun_data/FASTQC/A030-D-fore-fun-AGGTCTCC-TAGACGAC-MMB17-course-run20230203R_S30_L001_R1_001_fastqc.zip\n",
      "\u001b[34m|           multiqc\u001b[0m | Search path : /scratch/project_2007145/antkark/MMB-117/MMB-117_EnvironmentalMicrobiology/data/fun_data/FASTQC/A030-D-fore-fun-AGGTCTCC-TAGACGAC-MMB17-course-run20230203R_S30_L001_R2_001_fastqc.html\n",
      "\u001b[34m|           multiqc\u001b[0m | Search path : /scratch/project_2007145/antkark/MMB-117/MMB-117_EnvironmentalMicrobiology/data/fun_data/FASTQC/A030-D-fore-fun-AGGTCTCC-TAGACGAC-MMB17-course-run20230203R_S30_L001_R2_001_fastqc.zip\n",
      "\u001b[34m|           multiqc\u001b[0m | Search path : /scratch/project_2007145/antkark/MMB-117/MMB-117_EnvironmentalMicrobiology/data/fun_data/FASTQC/A031-D-park-fun-AGGTCTCC-GTGTTCGC-MMB17-course-run20230203R_S31_L001_R1_001_fastqc.html\n",
      "\u001b[34m|           multiqc\u001b[0m | Search path : /scratch/project_2007145/antkark/MMB-117/MMB-117_EnvironmentalMicrobiology/data/fun_data/FASTQC/A031-D-park-fun-AGGTCTCC-GTGTTCGC-MMB17-course-run20230203R_S31_L001_R1_001_fastqc.zip\n",
      "\u001b[34m|           multiqc\u001b[0m | Search path : /scratch/project_2007145/antkark/MMB-117/MMB-117_EnvironmentalMicrobiology/data/fun_data/FASTQC/A031-D-park-fun-AGGTCTCC-GTGTTCGC-MMB17-course-run20230203R_S31_L001_R2_001_fastqc.html\n",
      "\u001b[34m|           multiqc\u001b[0m | Search path : /scratch/project_2007145/antkark/MMB-117/MMB-117_EnvironmentalMicrobiology/data/fun_data/FASTQC/A031-D-park-fun-AGGTCTCC-GTGTTCGC-MMB17-course-run20230203R_S31_L001_R2_001_fastqc.zip\n",
      "\u001b[34m|           multiqc\u001b[0m | Search path : /scratch/project_2007145/antkark/MMB-117/MMB-117_EnvironmentalMicrobiology/data/fun_data/FASTQC/A032-D-NC-fun-AGGTCTCC-ATCCCTGG-MMB17-course-run20230203R_S32_L001_R1_001_fastqc.html\n",
      "\u001b[34m|           multiqc\u001b[0m | Search path : /scratch/project_2007145/antkark/MMB-117/MMB-117_EnvironmentalMicrobiology/data/fun_data/FASTQC/A032-D-NC-fun-AGGTCTCC-ATCCCTGG-MMB17-course-run20230203R_S32_L001_R1_001_fastqc.zip\n",
      "\u001b[34m|           multiqc\u001b[0m | Search path : /scratch/project_2007145/antkark/MMB-117/MMB-117_EnvironmentalMicrobiology/data/fun_data/FASTQC/A032-D-NC-fun-AGGTCTCC-ATCCCTGG-MMB17-course-run20230203R_S32_L001_R2_001_fastqc.html\n",
      "\u001b[34m|           multiqc\u001b[0m | Search path : /scratch/project_2007145/antkark/MMB-117/MMB-117_EnvironmentalMicrobiology/data/fun_data/FASTQC/A032-D-NC-fun-AGGTCTCC-ATCCCTGG-MMB17-course-run20230203R_S32_L001_R2_001_fastqc.zip\n",
      "\u001b[34m|           multiqc\u001b[0m | Search path : /scratch/project_2007145/antkark/MMB-117/MMB-117_EnvironmentalMicrobiology/data/fun_data/FASTQC/A036-E-agri-fun-CTTGGTTG-CTTGGTTA-MMB17-course-run20230203R_S36_L001_R1_001_fastqc.html\n",
      "\u001b[34m|           multiqc\u001b[0m | Search path : /scratch/project_2007145/antkark/MMB-117/MMB-117_EnvironmentalMicrobiology/data/fun_data/FASTQC/A036-E-agri-fun-CTTGGTTG-CTTGGTTA-MMB17-course-run20230203R_S36_L001_R1_001_fastqc.zip\n",
      "\u001b[34m|           multiqc\u001b[0m | Search path : /scratch/project_2007145/antkark/MMB-117/MMB-117_EnvironmentalMicrobiology/data/fun_data/FASTQC/A036-E-agri-fun-CTTGGTTG-CTTGGTTA-MMB17-course-run20230203R_S36_L001_R2_001_fastqc.html\n",
      "\u001b[34m|           multiqc\u001b[0m | Search path : /scratch/project_2007145/antkark/MMB-117/MMB-117_EnvironmentalMicrobiology/data/fun_data/FASTQC/A036-E-agri-fun-CTTGGTTG-CTTGGTTA-MMB17-course-run20230203R_S36_L001_R2_001_fastqc.zip\n",
      "\u001b[34m|           multiqc\u001b[0m | Search path : /scratch/project_2007145/antkark/MMB-117/MMB-117_EnvironmentalMicrobiology/data/fun_data/FASTQC/A037-E-park-fun-CTTGGTTG-CGTACACA-MMB17-course-run20230203R_S37_L001_R1_001_fastqc.html\n",
      "\u001b[34m|           multiqc\u001b[0m | Search path : /scratch/project_2007145/antkark/MMB-117/MMB-117_EnvironmentalMicrobiology/data/fun_data/FASTQC/A037-E-park-fun-CTTGGTTG-CGTACACA-MMB17-course-run20230203R_S37_L001_R1_001_fastqc.zip\n",
      "\u001b[34m|           multiqc\u001b[0m | Search path : /scratch/project_2007145/antkark/MMB-117/MMB-117_EnvironmentalMicrobiology/data/fun_data/FASTQC/A037-E-park-fun-CTTGGTTG-CGTACACA-MMB17-course-run20230203R_S37_L001_R2_001_fastqc.html\n",
      "\u001b[34m|           multiqc\u001b[0m | Search path : /scratch/project_2007145/antkark/MMB-117/MMB-117_EnvironmentalMicrobiology/data/fun_data/FASTQC/A037-E-park-fun-CTTGGTTG-CGTACACA-MMB17-course-run20230203R_S37_L001_R2_001_fastqc.zip\n",
      "\u001b[34m|           multiqc\u001b[0m | Search path : /scratch/project_2007145/antkark/MMB-117/MMB-117_EnvironmentalMicrobiology/data/fun_data/FASTQC/A038-E-fore-fun-CTTGGTTG-TAGACGAC-MMB17-course-run20230203R_S38_L001_R1_001_fastqc.html\n",
      "\u001b[34m|           multiqc\u001b[0m | Search path : /scratch/project_2007145/antkark/MMB-117/MMB-117_EnvironmentalMicrobiology/data/fun_data/FASTQC/A038-E-fore-fun-CTTGGTTG-TAGACGAC-MMB17-course-run20230203R_S38_L001_R1_001_fastqc.zip\n",
      "\u001b[34m|           multiqc\u001b[0m | Search path : /scratch/project_2007145/antkark/MMB-117/MMB-117_EnvironmentalMicrobiology/data/fun_data/FASTQC/A038-E-fore-fun-CTTGGTTG-TAGACGAC-MMB17-course-run20230203R_S38_L001_R2_001_fastqc.html\n",
      "\u001b[34m|           multiqc\u001b[0m | Search path : /scratch/project_2007145/antkark/MMB-117/MMB-117_EnvironmentalMicrobiology/data/fun_data/FASTQC/A038-E-fore-fun-CTTGGTTG-TAGACGAC-MMB17-course-run20230203R_S38_L001_R2_001_fastqc.zip\n",
      "\u001b[34m|           multiqc\u001b[0m | Search path : /scratch/project_2007145/antkark/MMB-117/MMB-117_EnvironmentalMicrobiology/data/fun_data/FASTQC/A040-E-NC-fun-CTTGGTTG-ATCCCTGG-MMB17-course-run20230203R_S40_L001_R1_001_fastqc.html\n",
      "\u001b[34m|           multiqc\u001b[0m | Search path : /scratch/project_2007145/antkark/MMB-117/MMB-117_EnvironmentalMicrobiology/data/fun_data/FASTQC/A040-E-NC-fun-CTTGGTTG-ATCCCTGG-MMB17-course-run20230203R_S40_L001_R1_001_fastqc.zip\n",
      "\u001b[34m|           multiqc\u001b[0m | Search path : /scratch/project_2007145/antkark/MMB-117/MMB-117_EnvironmentalMicrobiology/data/fun_data/FASTQC/A040-E-NC-fun-CTTGGTTG-ATCCCTGG-MMB17-course-run20230203R_S40_L001_R2_001_fastqc.html\n",
      "\u001b[34m|           multiqc\u001b[0m | Search path : /scratch/project_2007145/antkark/MMB-117/MMB-117_EnvironmentalMicrobiology/data/fun_data/FASTQC/A040-E-NC-fun-CTTGGTTG-ATCCCTGG-MMB17-course-run20230203R_S40_L001_R2_001_fastqc.zip\n",
      "\u001b[2K\u001b[34m|\u001b[0m         \u001b[34msearching\u001b[0m | \u001b[90m━━━━━━━━━━━━━━━━━━━━━━━━━━━━━━━━━━━━━━━━\u001b[0m \u001b[35m100%\u001b[0m \u001b[32m80/80\u001b[0m  \u001b[0m0m  \n",
      "\u001b[?25h\u001b[34m|            fastqc\u001b[0m | Found 40 reports\n",
      "\u001b[34m|           multiqc\u001b[0m | Compressing plot data\n",
      "\u001b[34m|           multiqc\u001b[0m | Report      : data/fun_data/FASTQC/multiqc_report.html\n",
      "\u001b[34m|           multiqc\u001b[0m | Data        : data/fun_data/FASTQC/multiqc_data\n",
      "\u001b[34m|           multiqc\u001b[0m | MultiQC complete\n"
     ]
    }
   ],
   "source": [
    "!multiqc --outdir data/fun_data/FASTQC --interactive data/fun_data/FASTQC/*"
   ]
  },
  {
   "cell_type": "markdown",
   "metadata": {},
   "source": [
    "And then fungal data"
   ]
  },
  {
   "cell_type": "code",
   "execution_count": null,
   "metadata": {},
   "outputs": [],
   "source": [
    "!multiqc "
   ]
  },
  {
   "cell_type": "markdown",
   "metadata": {},
   "source": [
    "After multiqc has completed, find the output files (`multiqc_report.html`) from the file browser on the left and download them to your own computer. Remember to change the names locally, otherwise the second one will overwrite the first if you download them to the same folder. "
   ]
  },
  {
   "cell_type": "markdown",
   "metadata": {},
   "source": [
    "After initial quality control, we need to trim off the PCR primers from our reads. We will use [cutadapt](https://cutadapt.readthedocs.io/en/stable/guide.html) for the job. Read the \"Adapter types\" section from the manual behind the link and think about where would we excpet out primers to be. And which options should we use to trim them.  We will run cutadapt in paired-end mode, so we need to specify the outputs separately for R1 and R2 reads. "
   ]
  },
  {
   "cell_type": "code",
   "execution_count": null,
   "metadata": {},
   "outputs": [],
   "source": [
    "!cutadapt -h"
   ]
  },
  {
   "cell_type": "markdown",
   "metadata": {},
   "source": [
    "Instead of running each sample separately, we can make a simple for loop to run each sample. But we first need the sample names.  "
   ]
  },
  {
   "cell_type": "markdown",
   "metadata": {},
   "source": [
    "First go to the right folder. "
   ]
  },
  {
   "cell_type": "code",
   "execution_count": 10,
   "metadata": {},
   "outputs": [
    {
     "name": "stdout",
     "output_type": "stream",
     "text": [
      "/scratch/project_2007145/antkark/MMB-117/MMB-117_EnvironmentalMicrobiology/data/bac_data\n"
     ]
    }
   ],
   "source": [
    "cd data/bac_data"
   ]
  },
  {
   "cell_type": "code",
   "execution_count": 12,
   "metadata": {},
   "outputs": [
    {
     "name": "stdout",
     "output_type": "stream",
     "text": [
      "total 98036\n",
      "-rwxrwx--- 1 antkark project_2007145 2228015 Feb  6 11:15 \u001b[0m\u001b[01;32mA039-E-NC-bac-CTTGGTTG-GTGTTCGC-MMB17-course-run20230203R_S39_L001_R2_001.fastq.gz\u001b[0m\u001b[K*\n",
      "-rwxrwx--- 1 antkark project_2007145 2080765 Feb  6 11:15 \u001b[01;32mA039-E-NC-bac-CTTGGTTG-GTGTTCGC-MMB17-course-run20230203R_S39_L001_R1_001.fastq.gz\u001b[0m\u001b[K*\n",
      "-rwxrwx--- 1 antkark project_2007145 3142349 Feb  6 11:15 \u001b[01;32mA035-E-fore-bac-CTTGGTTG-GCACTCTG-MMB17-course-run20230203R_S35_L001_R2_001.fastq.gz\u001b[0m\u001b[K*\n",
      "-rwxrwx--- 1 antkark project_2007145 2790572 Feb  6 11:15 \u001b[01;32mA035-E-fore-bac-CTTGGTTG-GCACTCTG-MMB17-course-run20230203R_S35_L001_R1_001.fastq.gz\u001b[0m\u001b[K*\n",
      "-rwxrwx--- 1 antkark project_2007145 3775093 Feb  6 11:15 \u001b[01;32mA034-E-park-bac-CTTGGTTG-TGAGAGAA-MMB17-course-run20230203R_S34_L001_R2_001.fastq.gz\u001b[0m\u001b[K*\n",
      "-rwxrwx--- 1 antkark project_2007145 3380791 Feb  6 11:15 \u001b[01;32mA034-E-park-bac-CTTGGTTG-TGAGAGAA-MMB17-course-run20230203R_S34_L001_R1_001.fastq.gz\u001b[0m\u001b[K*\n",
      "-rwxrwx--- 1 antkark project_2007145 3753753 Feb  6 11:15 \u001b[01;32mA033-E-agri-bac-CTTGGTTG-AACTGACT-MMB17-course-run20230203R_S33_L001_R2_001.fastq.gz\u001b[0m\u001b[K*\n",
      "-rwxrwx--- 1 antkark project_2007145 3344218 Feb  6 11:15 \u001b[01;32mA033-E-agri-bac-CTTGGTTG-AACTGACT-MMB17-course-run20230203R_S33_L001_R1_001.fastq.gz\u001b[0m\u001b[K*\n",
      "-rwxrwx--- 1 antkark project_2007145  130053 Feb  6 11:15 \u001b[01;32mA028-D-NC-bac-AGGTCTCC-CTTGGTTA-MMB17-course-run20230203R_S28_L001_R2_001.fastq.gz\u001b[0m\u001b[K*\n",
      "-rwxrwx--- 1 antkark project_2007145  127690 Feb  6 11:15 \u001b[01;32mA028-D-NC-bac-AGGTCTCC-CTTGGTTA-MMB17-course-run20230203R_S28_L001_R1_001.fastq.gz\u001b[0m\u001b[K*\n",
      "-rwxrwx--- 1 antkark project_2007145 3634882 Feb  6 11:15 \u001b[01;32mA027-D-park-bac-AGGTCTCC-GCACTCTG-MMB17-course-run20230203R_S27_L001_R2_001.fastq.gz\u001b[0m\u001b[K*\n",
      "-rwxrwx--- 1 antkark project_2007145 3559289 Feb  6 11:15 \u001b[01;32mA027-D-park-bac-AGGTCTCC-GCACTCTG-MMB17-course-run20230203R_S27_L001_R1_001.fastq.gz\u001b[0m\u001b[K*\n",
      "-rwxrwx--- 1 antkark project_2007145    3827 Feb  6 11:15 \u001b[01;32mA026-D-fore-bac-AGGTCTCC-TGAGAGAA-MMB17-course-run20230203R_S26_L001_R2_001.fastq.gz\u001b[0m\u001b[K*\n",
      "-rwxrwx--- 1 antkark project_2007145    3477 Feb  6 11:15 \u001b[01;32mA026-D-fore-bac-AGGTCTCC-TGAGAGAA-MMB17-course-run20230203R_S26_L001_R1_001.fastq.gz\u001b[0m\u001b[K*\n",
      "-rwxrwx--- 1 antkark project_2007145 3457658 Feb  6 11:15 \u001b[01;32mA025-D-agri-bac-AGGTCTCC-AACTGACT-MMB17-course-run20230203R_S25_L001_R2_001.fastq.gz\u001b[0m\u001b[K*\n",
      "-rwxrwx--- 1 antkark project_2007145 3405255 Feb  6 11:15 \u001b[01;32mA025-D-agri-bac-AGGTCTCC-AACTGACT-MMB17-course-run20230203R_S25_L001_R1_001.fastq.gz\u001b[0m\u001b[K*\n",
      "-rwxrwx--- 1 antkark project_2007145   30395 Feb  6 11:15 \u001b[01;32mA023-C-NC-bac-ACCACCAC-GTGTTCGC-MMB17-course-run20230203R_S23_L001_R2_001.fastq.gz\u001b[0m\u001b[K*\n",
      "-rwxrwx--- 1 antkark project_2007145   28423 Feb  6 11:15 \u001b[01;32mA023-C-NC-bac-ACCACCAC-GTGTTCGC-MMB17-course-run20230203R_S23_L001_R1_001.fastq.gz\u001b[0m\u001b[K*\n",
      "-rwxrwx--- 1 antkark project_2007145 3144687 Feb  6 11:15 \u001b[01;32mA021-C-fore-bac-ACCACCAC-CGTACACA-MMB17-course-run20230203R_S21_L001_R2_001.fastq.gz\u001b[0m\u001b[K*\n",
      "-rwxrwx--- 1 antkark project_2007145 3108293 Feb  6 11:15 \u001b[01;32mA021-C-fore-bac-ACCACCAC-CGTACACA-MMB17-course-run20230203R_S21_L001_R1_001.fastq.gz\u001b[0m\u001b[K*\n",
      "-rwxrwx--- 1 antkark project_2007145 3519608 Feb  6 11:15 \u001b[01;32mA019-C-agri-bac-ACCACCAC-GCACTCTG-MMB17-course-run20230203R_S19_L001_R2_001.fastq.gz\u001b[0m\u001b[K*\n",
      "-rwxrwx--- 1 antkark project_2007145 3438204 Feb  6 11:15 \u001b[01;32mA019-C-agri-bac-ACCACCAC-GCACTCTG-MMB17-course-run20230203R_S19_L001_R1_001.fastq.gz\u001b[0m\u001b[K*\n",
      "-rwxrwx--- 1 antkark project_2007145 3756424 Feb  6 11:15 \u001b[01;32mA017-C-park-bac-ACCACCAC-AACTGACT-MMB17-course-run20230203R_S17_L001_R2_001.fastq.gz\u001b[0m\u001b[K*\n",
      "-rwxrwx--- 1 antkark project_2007145 3682012 Feb  6 11:15 \u001b[01;32mA017-C-park-bac-ACCACCAC-AACTGACT-MMB17-course-run20230203R_S17_L001_R1_001.fastq.gz\u001b[0m\u001b[K*\n",
      "-rwxrwx--- 1 antkark project_2007145  242847 Feb  6 11:15 \u001b[01;32mA015-B-NC-bac-CACTTCGT-GTGTTCGC-MMB17-course-run20230203R_S15_L001_R2_001.fastq.gz\u001b[0m\u001b[K*\n",
      "-rwxrwx--- 1 antkark project_2007145  222337 Feb  6 11:15 \u001b[01;32mA015-B-NC-bac-CACTTCGT-GTGTTCGC-MMB17-course-run20230203R_S15_L001_R1_001.fastq.gz\u001b[0m\u001b[K*\n",
      "-rwxrwx--- 1 antkark project_2007145 2310082 Feb  6 11:15 \u001b[01;32mA011-B-fore-bac-CACTTCGT-GCACTCTG-MMB17-course-run20230203R_S11_L001_R2_001.fastq.gz\u001b[0m\u001b[K*\n",
      "-rwxrwx--- 1 antkark project_2007145 2249429 Feb  6 11:15 \u001b[01;32mA011-B-fore-bac-CACTTCGT-GCACTCTG-MMB17-course-run20230203R_S11_L001_R1_001.fastq.gz\u001b[0m\u001b[K*\n",
      "-rwxrwx--- 1 antkark project_2007145 3656264 Feb  6 11:15 \u001b[01;32mA010-B-agri-bac-CACTTCGT-TGAGAGAA-MMB17-course-run20230203R_S10_L001_R2_001.fastq.gz\u001b[0m\u001b[K*\n",
      "-rwxrwx--- 1 antkark project_2007145 3599566 Feb  6 11:15 \u001b[01;32mA010-B-agri-bac-CACTTCGT-TGAGAGAA-MMB17-course-run20230203R_S10_L001_R1_001.fastq.gz\u001b[0m\u001b[K*\n",
      "-rwxrwx--- 1 antkark project_2007145 3426958 Feb  6 11:15 \u001b[01;32mA009-B-park-bac-CACTTCGT-AACTGACT-MMB17-course-run20230203R_S9_L001_R2_001.fastq.gz\u001b[0m\u001b[K*\n",
      "-rwxrwx--- 1 antkark project_2007145 3363814 Feb  6 11:15 \u001b[01;32mA009-B-park-bac-CACTTCGT-AACTGACT-MMB17-course-run20230203R_S9_L001_R1_001.fastq.gz\u001b[0m\u001b[K*\n",
      "-rwxrwx--- 1 antkark project_2007145  132635 Feb  6 11:15 \u001b[01;32mA007-A-NC-bac-TGAAGGAT-GTGTTCGC-MMB17-course-run20230203R_S7_L001_R2_001.fastq.gz\u001b[0m\u001b[K*\n",
      "-rwxrwx--- 1 antkark project_2007145  123277 Feb  6 11:15 \u001b[01;32mA007-A-NC-bac-TGAAGGAT-GTGTTCGC-MMB17-course-run20230203R_S7_L001_R1_001.fastq.gz\u001b[0m\u001b[K*\n",
      "-rwxrwx--- 1 antkark project_2007145 3592168 Feb  6 11:15 \u001b[01;32mA005-A-park-bac-TGAAGGAT-CGTACACA-MMB17-course-run20230203R_S5_L001_R2_001.fastq.gz\u001b[0m\u001b[K*\n",
      "-rwxrwx--- 1 antkark project_2007145 3503811 Feb  6 11:15 \u001b[01;32mA005-A-park-bac-TGAAGGAT-CGTACACA-MMB17-course-run20230203R_S5_L001_R1_001.fastq.gz\u001b[0m\u001b[K*\n",
      "-rwxrwx--- 1 antkark project_2007145 3869259 Feb  6 11:15 \u001b[01;32mA003-A-fore-bac-TGAAGGAT-GCACTCTG-MMB17-course-run20230203R_S3_L001_R2_001.fastq.gz\u001b[0m\u001b[K*\n",
      "-rwxrwx--- 1 antkark project_2007145 3840760 Feb  6 11:15 \u001b[01;32mA003-A-fore-bac-TGAAGGAT-GCACTCTG-MMB17-course-run20230203R_S3_L001_R1_001.fastq.gz\u001b[0m\u001b[K*\n",
      "-rwxrwx--- 1 antkark project_2007145 3352192 Feb  6 11:15 \u001b[01;32mA001-A-agri-bac-TGAAGGAT-AACTGACT-MMB17-course-run20230203R_S1_L001_R2_001.fastq.gz\u001b[0m\u001b[K*\n",
      "-rwxrwx--- 1 antkark project_2007145 3282468 Feb  6 11:15 \u001b[01;32mA001-A-agri-bac-TGAAGGAT-AACTGACT-MMB17-course-run20230203R_S1_L001_R1_001.fastq.gz\u001b[0m\u001b[K*\n",
      "drwxrws--- 3 antkark project_2007145   20480 Feb  6 12:09 \u001b[01;34mFASTQC\u001b[0m/\n",
      "-rw-rw---- 1 antkark project_2007145       0 Feb  6 12:13 sample_names.txt\n"
     ]
    }
   ],
   "source": [
    "ls -ltr"
   ]
  },
  {
   "cell_type": "markdown",
   "metadata": {},
   "source": [
    "Then get the sample names from the forward read files. "
   ]
  },
  {
   "cell_type": "code",
   "execution_count": 13,
   "metadata": {},
   "outputs": [],
   "source": [
    "ls *_R1_001.fastq.gz |cut -d \"_\" -f 1 > sample_names.txt"
   ]
  },
  {
   "cell_type": "code",
   "execution_count": 15,
   "metadata": {},
   "outputs": [
    {
     "name": "stdout",
     "output_type": "stream",
     "text": [
      "/scratch/project_2007145/antkark/MMB-117/MMB-117_EnvironmentalMicrobiology/data/fun_data\n"
     ]
    }
   ],
   "source": [
    "cd ../fun_data/"
   ]
  },
  {
   "cell_type": "code",
   "execution_count": 32,
   "metadata": {},
   "outputs": [
    {
     "name": "stdout",
     "output_type": "stream",
     "text": [
      "ls: cannot access '*_R1_001.fastq.gz': No such file or directory\n"
     ]
    }
   ],
   "source": [
    "ls *_R1_001.fastq.gz |cut -d \"_\" -f 1,2,3,4 > sample_names.txt"
   ]
  },
  {
   "cell_type": "code",
   "execution_count": 21,
   "metadata": {},
   "outputs": [
    {
     "name": "stdout",
     "output_type": "stream",
     "text": [
      "/scratch/project_2007145/antkark/MMB-117/MMB-117_EnvironmentalMicrobiology\n"
     ]
    }
   ],
   "source": [
    "cd ../.."
   ]
  },
  {
   "cell_type": "code",
   "execution_count": null,
   "metadata": {},
   "outputs": [],
   "source": [
    "%%bash\n",
    "mkdir trimmed_data/bac_data\n",
    "mkdir trimmed_data/fun_data"
   ]
  },
  {
   "cell_type": "code",
   "execution_count": 33,
   "metadata": {},
   "outputs": [],
   "source": [
    "%%bash\n",
    "\n",
    "for sample in $(cat data/bac_data/sample_names.txt) \n",
    "do \n",
    "    cutadapt \\\n",
    "    -g CCTACGGGNGGCWGCAG \\\n",
    "    -G GACTACHVGGGTATCTAATCC \\\n",
    "    -O 10 \\\n",
    "    --cores 4 \\\n",
    "    data/bac_data/${sample}*_R1_001.fastq.gz \\\n",
    "    data/bac_data/${sample}*_R2_001.fastq.gz \\\n",
    "    -o trimmed_data/bac_data/${sample}_trimmed_1.fastq.gz \\\n",
    "    -p trimmed_data/bac_data/${sample}_trimmed_2.fastq.gz \\\n",
    "    > trimmed_data/bac_data/${sample}.log\n",
    "done"
   ]
  },
  {
   "cell_type": "code",
   "execution_count": 35,
   "metadata": {},
   "outputs": [],
   "source": [
    "%%bash\n",
    "for sample in $(cat data/fun_data/sample_names.txt) \n",
    "do \n",
    "    cutadapt \\\n",
    "    -g TCCTCCGCTTATTGATATGC \\\n",
    "    -a CAAAGATTCGATGAYTCAC \\\n",
    "    -G GTGARTCATCGAATCTTTG \\\n",
    "    -A GCATATCAATAAGCGGAGGA \\\n",
    "    -O 10 \\\n",
    "    --cores 4 \\\n",
    "    data/fun_data/${sample}*_R1_001.fastq.gz \\\n",
    "    data/fun_data/${sample}*_R2_001.fastq.gz \\\n",
    "    -o trimmed_data/fun_data/${sample}_trimmed_1.fastq.gz \\\n",
    "    -p trimmed_data/fun_data/${sample}_trimmed_2.fastq.gz \\\n",
    "    > trimmed_data/fun_data/${sample}.log\n",
    "done "
   ]
  },
  {
   "cell_type": "markdown",
   "metadata": {},
   "source": [
    "Then the names for ITS samples too.  "
   ]
  },
  {
   "cell_type": "markdown",
   "metadata": {},
   "source": [
    "Before running cutadapt, we need to make new folders for trimmed reads under the `trimmed_data` folder. \n",
    "Call them again `bac_data` and `fun_data`."
   ]
  },
  {
   "cell_type": "markdown",
   "metadata": {},
   "source": [
    "Then we can run cutadapt in a loop going thru the file with all sample names. Run the command from the samin folder. "
   ]
  },
  {
   "cell_type": "markdown",
   "metadata": {},
   "source": [
    "When the trimming is done, run fastqc and multiqc again on thee trimmed data to make sure everything looks ok. "
   ]
  },
  {
   "cell_type": "code",
   "execution_count": 36,
   "metadata": {},
   "outputs": [],
   "source": [
    "%%bash\n",
    "mkdir trimmed_data/bac_data/FASTQC\n",
    "mkdir trimmed_data/fun_data/FASTQC"
   ]
  },
  {
   "cell_type": "code",
   "execution_count": 37,
   "metadata": {},
   "outputs": [],
   "source": [
    "!fastqc --quiet --threads 4 --outdir trimmed_data/bac_data/FASTQC --format fastq trimmed_data/bac_data/*.fastq.gz"
   ]
  },
  {
   "cell_type": "code",
   "execution_count": 39,
   "metadata": {},
   "outputs": [],
   "source": [
    "!fastqc --quiet --threads 4 --outdir trimmed_data/fun_data/FASTQC --format fastq trimmed_data/fun_data/*.fastq.gz"
   ]
  },
  {
   "cell_type": "code",
   "execution_count": 41,
   "metadata": {},
   "outputs": [
    {
     "name": "stdout",
     "output_type": "stream",
     "text": [
      "\n",
      "  \u001b[34m/\u001b[0m\u001b[32m/\u001b[0m\u001b[31m/\u001b[0m \u001b]8;id=478082;https://multiqc.info\u001b\\\u001b[1mMultiQC\u001b[0m\u001b]8;;\u001b\\ 🔍 \u001b[2m| v1.14\u001b[0m\n",
      "\n",
      "\u001b[34m|           multiqc\u001b[0m | Search path : /scratch/project_2007145/antkark/MMB-117/MMB-117_EnvironmentalMicrobiology/trimmed_data/bac_data/FASTQC/A001-A-agri-bac_trimmed_1_fastqc.html\n",
      "\u001b[34m|           multiqc\u001b[0m | Search path : /scratch/project_2007145/antkark/MMB-117/MMB-117_EnvironmentalMicrobiology/trimmed_data/bac_data/FASTQC/A001-A-agri-bac_trimmed_1_fastqc.zip\n",
      "\u001b[34m|           multiqc\u001b[0m | Search path : /scratch/project_2007145/antkark/MMB-117/MMB-117_EnvironmentalMicrobiology/trimmed_data/bac_data/FASTQC/A001-A-agri-bac_trimmed_2_fastqc.html\n",
      "\u001b[34m|           multiqc\u001b[0m | Search path : /scratch/project_2007145/antkark/MMB-117/MMB-117_EnvironmentalMicrobiology/trimmed_data/bac_data/FASTQC/A001-A-agri-bac_trimmed_2_fastqc.zip\n",
      "\u001b[34m|           multiqc\u001b[0m | Search path : /scratch/project_2007145/antkark/MMB-117/MMB-117_EnvironmentalMicrobiology/trimmed_data/bac_data/FASTQC/A003-A-fore-bac_trimmed_1_fastqc.html\n",
      "\u001b[34m|           multiqc\u001b[0m | Search path : /scratch/project_2007145/antkark/MMB-117/MMB-117_EnvironmentalMicrobiology/trimmed_data/bac_data/FASTQC/A003-A-fore-bac_trimmed_1_fastqc.zip\n",
      "\u001b[34m|           multiqc\u001b[0m | Search path : /scratch/project_2007145/antkark/MMB-117/MMB-117_EnvironmentalMicrobiology/trimmed_data/bac_data/FASTQC/A003-A-fore-bac_trimmed_2_fastqc.html\n",
      "\u001b[34m|           multiqc\u001b[0m | Search path : /scratch/project_2007145/antkark/MMB-117/MMB-117_EnvironmentalMicrobiology/trimmed_data/bac_data/FASTQC/A003-A-fore-bac_trimmed_2_fastqc.zip\n",
      "\u001b[34m|           multiqc\u001b[0m | Search path : /scratch/project_2007145/antkark/MMB-117/MMB-117_EnvironmentalMicrobiology/trimmed_data/bac_data/FASTQC/A005-A-park-bac_trimmed_1_fastqc.html\n",
      "\u001b[34m|           multiqc\u001b[0m | Search path : /scratch/project_2007145/antkark/MMB-117/MMB-117_EnvironmentalMicrobiology/trimmed_data/bac_data/FASTQC/A005-A-park-bac_trimmed_1_fastqc.zip\n",
      "\u001b[34m|           multiqc\u001b[0m | Search path : /scratch/project_2007145/antkark/MMB-117/MMB-117_EnvironmentalMicrobiology/trimmed_data/bac_data/FASTQC/A005-A-park-bac_trimmed_2_fastqc.html\n",
      "\u001b[34m|           multiqc\u001b[0m | Search path : /scratch/project_2007145/antkark/MMB-117/MMB-117_EnvironmentalMicrobiology/trimmed_data/bac_data/FASTQC/A005-A-park-bac_trimmed_2_fastqc.zip\n",
      "\u001b[34m|           multiqc\u001b[0m | Search path : /scratch/project_2007145/antkark/MMB-117/MMB-117_EnvironmentalMicrobiology/trimmed_data/bac_data/FASTQC/A007-A-NC-bac_trimmed_1_fastqc.html\n",
      "\u001b[34m|           multiqc\u001b[0m | Search path : /scratch/project_2007145/antkark/MMB-117/MMB-117_EnvironmentalMicrobiology/trimmed_data/bac_data/FASTQC/A007-A-NC-bac_trimmed_1_fastqc.zip\n",
      "\u001b[34m|           multiqc\u001b[0m | Search path : /scratch/project_2007145/antkark/MMB-117/MMB-117_EnvironmentalMicrobiology/trimmed_data/bac_data/FASTQC/A007-A-NC-bac_trimmed_2_fastqc.html\n",
      "\u001b[34m|           multiqc\u001b[0m | Search path : /scratch/project_2007145/antkark/MMB-117/MMB-117_EnvironmentalMicrobiology/trimmed_data/bac_data/FASTQC/A007-A-NC-bac_trimmed_2_fastqc.zip\n",
      "\u001b[34m|           multiqc\u001b[0m | Search path : /scratch/project_2007145/antkark/MMB-117/MMB-117_EnvironmentalMicrobiology/trimmed_data/bac_data/FASTQC/A009-B-park-bac_trimmed_1_fastqc.html\n",
      "\u001b[34m|           multiqc\u001b[0m | Search path : /scratch/project_2007145/antkark/MMB-117/MMB-117_EnvironmentalMicrobiology/trimmed_data/bac_data/FASTQC/A009-B-park-bac_trimmed_1_fastqc.zip\n",
      "\u001b[34m|           multiqc\u001b[0m | Search path : /scratch/project_2007145/antkark/MMB-117/MMB-117_EnvironmentalMicrobiology/trimmed_data/bac_data/FASTQC/A009-B-park-bac_trimmed_2_fastqc.html\n",
      "\u001b[34m|           multiqc\u001b[0m | Search path : /scratch/project_2007145/antkark/MMB-117/MMB-117_EnvironmentalMicrobiology/trimmed_data/bac_data/FASTQC/A009-B-park-bac_trimmed_2_fastqc.zip\n",
      "\u001b[34m|           multiqc\u001b[0m | Search path : /scratch/project_2007145/antkark/MMB-117/MMB-117_EnvironmentalMicrobiology/trimmed_data/bac_data/FASTQC/A010-B-agri-bac_trimmed_1_fastqc.html\n",
      "\u001b[34m|           multiqc\u001b[0m | Search path : /scratch/project_2007145/antkark/MMB-117/MMB-117_EnvironmentalMicrobiology/trimmed_data/bac_data/FASTQC/A010-B-agri-bac_trimmed_1_fastqc.zip\n",
      "\u001b[34m|           multiqc\u001b[0m | Search path : /scratch/project_2007145/antkark/MMB-117/MMB-117_EnvironmentalMicrobiology/trimmed_data/bac_data/FASTQC/A010-B-agri-bac_trimmed_2_fastqc.html\n",
      "\u001b[34m|           multiqc\u001b[0m | Search path : /scratch/project_2007145/antkark/MMB-117/MMB-117_EnvironmentalMicrobiology/trimmed_data/bac_data/FASTQC/A010-B-agri-bac_trimmed_2_fastqc.zip\n",
      "\u001b[34m|           multiqc\u001b[0m | Search path : /scratch/project_2007145/antkark/MMB-117/MMB-117_EnvironmentalMicrobiology/trimmed_data/bac_data/FASTQC/A011-B-fore-bac_trimmed_1_fastqc.html\n",
      "\u001b[34m|           multiqc\u001b[0m | Search path : /scratch/project_2007145/antkark/MMB-117/MMB-117_EnvironmentalMicrobiology/trimmed_data/bac_data/FASTQC/A011-B-fore-bac_trimmed_1_fastqc.zip\n",
      "\u001b[34m|           multiqc\u001b[0m | Search path : /scratch/project_2007145/antkark/MMB-117/MMB-117_EnvironmentalMicrobiology/trimmed_data/bac_data/FASTQC/A011-B-fore-bac_trimmed_2_fastqc.html\n",
      "\u001b[34m|           multiqc\u001b[0m | Search path : /scratch/project_2007145/antkark/MMB-117/MMB-117_EnvironmentalMicrobiology/trimmed_data/bac_data/FASTQC/A011-B-fore-bac_trimmed_2_fastqc.zip\n",
      "\u001b[34m|           multiqc\u001b[0m | Search path : /scratch/project_2007145/antkark/MMB-117/MMB-117_EnvironmentalMicrobiology/trimmed_data/bac_data/FASTQC/A015-B-NC-bac_trimmed_1_fastqc.html\n",
      "\u001b[34m|           multiqc\u001b[0m | Search path : /scratch/project_2007145/antkark/MMB-117/MMB-117_EnvironmentalMicrobiology/trimmed_data/bac_data/FASTQC/A015-B-NC-bac_trimmed_1_fastqc.zip\n",
      "\u001b[34m|           multiqc\u001b[0m | Search path : /scratch/project_2007145/antkark/MMB-117/MMB-117_EnvironmentalMicrobiology/trimmed_data/bac_data/FASTQC/A015-B-NC-bac_trimmed_2_fastqc.html\n",
      "\u001b[34m|           multiqc\u001b[0m | Search path : /scratch/project_2007145/antkark/MMB-117/MMB-117_EnvironmentalMicrobiology/trimmed_data/bac_data/FASTQC/A015-B-NC-bac_trimmed_2_fastqc.zip\n",
      "\u001b[34m|           multiqc\u001b[0m | Search path : /scratch/project_2007145/antkark/MMB-117/MMB-117_EnvironmentalMicrobiology/trimmed_data/bac_data/FASTQC/A017-C-park-bac_trimmed_1_fastqc.html\n",
      "\u001b[34m|           multiqc\u001b[0m | Search path : /scratch/project_2007145/antkark/MMB-117/MMB-117_EnvironmentalMicrobiology/trimmed_data/bac_data/FASTQC/A017-C-park-bac_trimmed_1_fastqc.zip\n",
      "\u001b[34m|           multiqc\u001b[0m | Search path : /scratch/project_2007145/antkark/MMB-117/MMB-117_EnvironmentalMicrobiology/trimmed_data/bac_data/FASTQC/A017-C-park-bac_trimmed_2_fastqc.html\n",
      "\u001b[34m|           multiqc\u001b[0m | Search path : /scratch/project_2007145/antkark/MMB-117/MMB-117_EnvironmentalMicrobiology/trimmed_data/bac_data/FASTQC/A017-C-park-bac_trimmed_2_fastqc.zip\n",
      "\u001b[34m|           multiqc\u001b[0m | Search path : /scratch/project_2007145/antkark/MMB-117/MMB-117_EnvironmentalMicrobiology/trimmed_data/bac_data/FASTQC/A019-C-agri-bac_trimmed_1_fastqc.html\n",
      "\u001b[34m|           multiqc\u001b[0m | Search path : /scratch/project_2007145/antkark/MMB-117/MMB-117_EnvironmentalMicrobiology/trimmed_data/bac_data/FASTQC/A019-C-agri-bac_trimmed_1_fastqc.zip\n",
      "\u001b[34m|           multiqc\u001b[0m | Search path : /scratch/project_2007145/antkark/MMB-117/MMB-117_EnvironmentalMicrobiology/trimmed_data/bac_data/FASTQC/A019-C-agri-bac_trimmed_2_fastqc.html\n",
      "\u001b[34m|           multiqc\u001b[0m | Search path : /scratch/project_2007145/antkark/MMB-117/MMB-117_EnvironmentalMicrobiology/trimmed_data/bac_data/FASTQC/A019-C-agri-bac_trimmed_2_fastqc.zip\n",
      "\u001b[34m|           multiqc\u001b[0m | Search path : /scratch/project_2007145/antkark/MMB-117/MMB-117_EnvironmentalMicrobiology/trimmed_data/bac_data/FASTQC/A021-C-fore-bac_trimmed_1_fastqc.html\n",
      "\u001b[34m|           multiqc\u001b[0m | Search path : /scratch/project_2007145/antkark/MMB-117/MMB-117_EnvironmentalMicrobiology/trimmed_data/bac_data/FASTQC/A021-C-fore-bac_trimmed_1_fastqc.zip\n",
      "\u001b[34m|           multiqc\u001b[0m | Search path : /scratch/project_2007145/antkark/MMB-117/MMB-117_EnvironmentalMicrobiology/trimmed_data/bac_data/FASTQC/A021-C-fore-bac_trimmed_2_fastqc.html\n",
      "\u001b[34m|           multiqc\u001b[0m | Search path : /scratch/project_2007145/antkark/MMB-117/MMB-117_EnvironmentalMicrobiology/trimmed_data/bac_data/FASTQC/A021-C-fore-bac_trimmed_2_fastqc.zip\n",
      "\u001b[34m|           multiqc\u001b[0m | Search path : /scratch/project_2007145/antkark/MMB-117/MMB-117_EnvironmentalMicrobiology/trimmed_data/bac_data/FASTQC/A023-C-NC-bac_trimmed_1_fastqc.html\n",
      "\u001b[34m|           multiqc\u001b[0m | Search path : /scratch/project_2007145/antkark/MMB-117/MMB-117_EnvironmentalMicrobiology/trimmed_data/bac_data/FASTQC/A023-C-NC-bac_trimmed_1_fastqc.zip\n",
      "\u001b[34m|           multiqc\u001b[0m | Search path : /scratch/project_2007145/antkark/MMB-117/MMB-117_EnvironmentalMicrobiology/trimmed_data/bac_data/FASTQC/A023-C-NC-bac_trimmed_2_fastqc.html\n",
      "\u001b[34m|           multiqc\u001b[0m | Search path : /scratch/project_2007145/antkark/MMB-117/MMB-117_EnvironmentalMicrobiology/trimmed_data/bac_data/FASTQC/A023-C-NC-bac_trimmed_2_fastqc.zip\n",
      "\u001b[34m|           multiqc\u001b[0m | Search path : /scratch/project_2007145/antkark/MMB-117/MMB-117_EnvironmentalMicrobiology/trimmed_data/bac_data/FASTQC/A025-D-agri-bac_trimmed_1_fastqc.html\n",
      "\u001b[34m|           multiqc\u001b[0m | Search path : /scratch/project_2007145/antkark/MMB-117/MMB-117_EnvironmentalMicrobiology/trimmed_data/bac_data/FASTQC/A025-D-agri-bac_trimmed_1_fastqc.zip\n",
      "\u001b[34m|           multiqc\u001b[0m | Search path : /scratch/project_2007145/antkark/MMB-117/MMB-117_EnvironmentalMicrobiology/trimmed_data/bac_data/FASTQC/A025-D-agri-bac_trimmed_2_fastqc.html\n",
      "\u001b[34m|           multiqc\u001b[0m | Search path : /scratch/project_2007145/antkark/MMB-117/MMB-117_EnvironmentalMicrobiology/trimmed_data/bac_data/FASTQC/A025-D-agri-bac_trimmed_2_fastqc.zip\n",
      "\u001b[34m|           multiqc\u001b[0m | Search path : /scratch/project_2007145/antkark/MMB-117/MMB-117_EnvironmentalMicrobiology/trimmed_data/bac_data/FASTQC/A026-D-fore-bac_trimmed_1_fastqc.html\n",
      "\u001b[34m|           multiqc\u001b[0m | Search path : /scratch/project_2007145/antkark/MMB-117/MMB-117_EnvironmentalMicrobiology/trimmed_data/bac_data/FASTQC/A026-D-fore-bac_trimmed_1_fastqc.zip\n",
      "\u001b[34m|           multiqc\u001b[0m | Search path : /scratch/project_2007145/antkark/MMB-117/MMB-117_EnvironmentalMicrobiology/trimmed_data/bac_data/FASTQC/A026-D-fore-bac_trimmed_2_fastqc.html\n",
      "\u001b[34m|           multiqc\u001b[0m | Search path : /scratch/project_2007145/antkark/MMB-117/MMB-117_EnvironmentalMicrobiology/trimmed_data/bac_data/FASTQC/A026-D-fore-bac_trimmed_2_fastqc.zip\n",
      "\u001b[34m|           multiqc\u001b[0m | Search path : /scratch/project_2007145/antkark/MMB-117/MMB-117_EnvironmentalMicrobiology/trimmed_data/bac_data/FASTQC/A027-D-park-bac_trimmed_1_fastqc.html\n",
      "\u001b[34m|           multiqc\u001b[0m | Search path : /scratch/project_2007145/antkark/MMB-117/MMB-117_EnvironmentalMicrobiology/trimmed_data/bac_data/FASTQC/A027-D-park-bac_trimmed_1_fastqc.zip\n",
      "\u001b[34m|           multiqc\u001b[0m | Search path : /scratch/project_2007145/antkark/MMB-117/MMB-117_EnvironmentalMicrobiology/trimmed_data/bac_data/FASTQC/A027-D-park-bac_trimmed_2_fastqc.html\n",
      "\u001b[34m|           multiqc\u001b[0m | Search path : /scratch/project_2007145/antkark/MMB-117/MMB-117_EnvironmentalMicrobiology/trimmed_data/bac_data/FASTQC/A027-D-park-bac_trimmed_2_fastqc.zip\n",
      "\u001b[34m|           multiqc\u001b[0m | Search path : /scratch/project_2007145/antkark/MMB-117/MMB-117_EnvironmentalMicrobiology/trimmed_data/bac_data/FASTQC/A028-D-NC-bac_trimmed_1_fastqc.html\n",
      "\u001b[34m|           multiqc\u001b[0m | Search path : /scratch/project_2007145/antkark/MMB-117/MMB-117_EnvironmentalMicrobiology/trimmed_data/bac_data/FASTQC/A028-D-NC-bac_trimmed_1_fastqc.zip\n",
      "\u001b[34m|           multiqc\u001b[0m | Search path : /scratch/project_2007145/antkark/MMB-117/MMB-117_EnvironmentalMicrobiology/trimmed_data/bac_data/FASTQC/A028-D-NC-bac_trimmed_2_fastqc.html\n",
      "\u001b[34m|           multiqc\u001b[0m | Search path : /scratch/project_2007145/antkark/MMB-117/MMB-117_EnvironmentalMicrobiology/trimmed_data/bac_data/FASTQC/A028-D-NC-bac_trimmed_2_fastqc.zip\n",
      "\u001b[34m|           multiqc\u001b[0m | Search path : /scratch/project_2007145/antkark/MMB-117/MMB-117_EnvironmentalMicrobiology/trimmed_data/bac_data/FASTQC/A033-E-agri-bac_trimmed_1_fastqc.html\n",
      "\u001b[34m|           multiqc\u001b[0m | Search path : /scratch/project_2007145/antkark/MMB-117/MMB-117_EnvironmentalMicrobiology/trimmed_data/bac_data/FASTQC/A033-E-agri-bac_trimmed_1_fastqc.zip\n",
      "\u001b[34m|           multiqc\u001b[0m | Search path : /scratch/project_2007145/antkark/MMB-117/MMB-117_EnvironmentalMicrobiology/trimmed_data/bac_data/FASTQC/A033-E-agri-bac_trimmed_2_fastqc.html\n",
      "\u001b[34m|           multiqc\u001b[0m | Search path : /scratch/project_2007145/antkark/MMB-117/MMB-117_EnvironmentalMicrobiology/trimmed_data/bac_data/FASTQC/A033-E-agri-bac_trimmed_2_fastqc.zip\n",
      "\u001b[34m|           multiqc\u001b[0m | Search path : /scratch/project_2007145/antkark/MMB-117/MMB-117_EnvironmentalMicrobiology/trimmed_data/bac_data/FASTQC/A034-E-park-bac_trimmed_1_fastqc.html\n",
      "\u001b[34m|           multiqc\u001b[0m | Search path : /scratch/project_2007145/antkark/MMB-117/MMB-117_EnvironmentalMicrobiology/trimmed_data/bac_data/FASTQC/A034-E-park-bac_trimmed_1_fastqc.zip\n",
      "\u001b[34m|           multiqc\u001b[0m | Search path : /scratch/project_2007145/antkark/MMB-117/MMB-117_EnvironmentalMicrobiology/trimmed_data/bac_data/FASTQC/A034-E-park-bac_trimmed_2_fastqc.html\n",
      "\u001b[34m|           multiqc\u001b[0m | Search path : /scratch/project_2007145/antkark/MMB-117/MMB-117_EnvironmentalMicrobiology/trimmed_data/bac_data/FASTQC/A034-E-park-bac_trimmed_2_fastqc.zip\n",
      "\u001b[34m|           multiqc\u001b[0m | Search path : /scratch/project_2007145/antkark/MMB-117/MMB-117_EnvironmentalMicrobiology/trimmed_data/bac_data/FASTQC/A035-E-fore-bac_trimmed_1_fastqc.html\n",
      "\u001b[34m|           multiqc\u001b[0m | Search path : /scratch/project_2007145/antkark/MMB-117/MMB-117_EnvironmentalMicrobiology/trimmed_data/bac_data/FASTQC/A035-E-fore-bac_trimmed_1_fastqc.zip\n",
      "\u001b[34m|           multiqc\u001b[0m | Search path : /scratch/project_2007145/antkark/MMB-117/MMB-117_EnvironmentalMicrobiology/trimmed_data/bac_data/FASTQC/A035-E-fore-bac_trimmed_2_fastqc.html\n",
      "\u001b[34m|           multiqc\u001b[0m | Search path : /scratch/project_2007145/antkark/MMB-117/MMB-117_EnvironmentalMicrobiology/trimmed_data/bac_data/FASTQC/A035-E-fore-bac_trimmed_2_fastqc.zip\n",
      "\u001b[34m|           multiqc\u001b[0m | Search path : /scratch/project_2007145/antkark/MMB-117/MMB-117_EnvironmentalMicrobiology/trimmed_data/bac_data/FASTQC/A039-E-NC-bac_trimmed_1_fastqc.html\n",
      "\u001b[34m|           multiqc\u001b[0m | Search path : /scratch/project_2007145/antkark/MMB-117/MMB-117_EnvironmentalMicrobiology/trimmed_data/bac_data/FASTQC/A039-E-NC-bac_trimmed_1_fastqc.zip\n",
      "\u001b[34m|           multiqc\u001b[0m | Search path : /scratch/project_2007145/antkark/MMB-117/MMB-117_EnvironmentalMicrobiology/trimmed_data/bac_data/FASTQC/A039-E-NC-bac_trimmed_2_fastqc.html\n",
      "\u001b[34m|           multiqc\u001b[0m | Search path : /scratch/project_2007145/antkark/MMB-117/MMB-117_EnvironmentalMicrobiology/trimmed_data/bac_data/FASTQC/A039-E-NC-bac_trimmed_2_fastqc.zip\n",
      "\u001b[2K\u001b[34m|\u001b[0m         \u001b[34msearching\u001b[0m | \u001b[90m━━━━━━━━━━━━━━━━━━━━━━━━━━━━━━━━━━━━━━━━\u001b[0m \u001b[35m100%\u001b[0m \u001b[32m80/80\u001b[0m  \u001b[0m0m  \n",
      "\u001b[?25h\u001b[34m|            fastqc\u001b[0m | Found 40 reports\n",
      "\u001b[34m|           multiqc\u001b[0m | Compressing plot data\n",
      "\u001b[34m|           multiqc\u001b[0m | Report      : trimmed_data/bac_data/FASTQC/multiqc_report.html\n",
      "\u001b[34m|           multiqc\u001b[0m | Data        : trimmed_data/bac_data/FASTQC/multiqc_data\n",
      "\u001b[34m|           multiqc\u001b[0m | MultiQC complete\n"
     ]
    }
   ],
   "source": [
    "!multiqc --outdir trimmed_data/bac_data/FASTQC --interactive trimmed_data/bac_data/FASTQC/*"
   ]
  },
  {
   "cell_type": "code",
   "execution_count": 42,
   "metadata": {},
   "outputs": [
    {
     "name": "stdout",
     "output_type": "stream",
     "text": [
      "\n",
      "  \u001b[34m/\u001b[0m\u001b[32m/\u001b[0m\u001b[31m/\u001b[0m \u001b]8;id=785174;https://multiqc.info\u001b\\\u001b[1mMultiQC\u001b[0m\u001b]8;;\u001b\\ 🔍 \u001b[2m| v1.14\u001b[0m\n",
      "\n",
      "\u001b[34m|           multiqc\u001b[0m | Search path : /scratch/project_2007145/antkark/MMB-117/MMB-117_EnvironmentalMicrobiology/trimmed_data/fun_data/FASTQC/A002-A-agri-fun_trimmed_1_fastqc.html\n",
      "\u001b[34m|           multiqc\u001b[0m | Search path : /scratch/project_2007145/antkark/MMB-117/MMB-117_EnvironmentalMicrobiology/trimmed_data/fun_data/FASTQC/A002-A-agri-fun_trimmed_1_fastqc.zip\n",
      "\u001b[34m|           multiqc\u001b[0m | Search path : /scratch/project_2007145/antkark/MMB-117/MMB-117_EnvironmentalMicrobiology/trimmed_data/fun_data/FASTQC/A002-A-agri-fun_trimmed_2_fastqc.html\n",
      "\u001b[34m|           multiqc\u001b[0m | Search path : /scratch/project_2007145/antkark/MMB-117/MMB-117_EnvironmentalMicrobiology/trimmed_data/fun_data/FASTQC/A002-A-agri-fun_trimmed_2_fastqc.zip\n",
      "\u001b[34m|           multiqc\u001b[0m | Search path : /scratch/project_2007145/antkark/MMB-117/MMB-117_EnvironmentalMicrobiology/trimmed_data/fun_data/FASTQC/A004-A-fore-fun_trimmed_1_fastqc.html\n",
      "\u001b[34m|           multiqc\u001b[0m | Search path : /scratch/project_2007145/antkark/MMB-117/MMB-117_EnvironmentalMicrobiology/trimmed_data/fun_data/FASTQC/A004-A-fore-fun_trimmed_1_fastqc.zip\n",
      "\u001b[34m|           multiqc\u001b[0m | Search path : /scratch/project_2007145/antkark/MMB-117/MMB-117_EnvironmentalMicrobiology/trimmed_data/fun_data/FASTQC/A004-A-fore-fun_trimmed_2_fastqc.html\n",
      "\u001b[34m|           multiqc\u001b[0m | Search path : /scratch/project_2007145/antkark/MMB-117/MMB-117_EnvironmentalMicrobiology/trimmed_data/fun_data/FASTQC/A004-A-fore-fun_trimmed_2_fastqc.zip\n",
      "\u001b[34m|           multiqc\u001b[0m | Search path : /scratch/project_2007145/antkark/MMB-117/MMB-117_EnvironmentalMicrobiology/trimmed_data/fun_data/FASTQC/A006-A-park-fun_trimmed_1_fastqc.html\n",
      "\u001b[34m|           multiqc\u001b[0m | Search path : /scratch/project_2007145/antkark/MMB-117/MMB-117_EnvironmentalMicrobiology/trimmed_data/fun_data/FASTQC/A006-A-park-fun_trimmed_1_fastqc.zip\n",
      "\u001b[34m|           multiqc\u001b[0m | Search path : /scratch/project_2007145/antkark/MMB-117/MMB-117_EnvironmentalMicrobiology/trimmed_data/fun_data/FASTQC/A006-A-park-fun_trimmed_2_fastqc.html\n",
      "\u001b[34m|           multiqc\u001b[0m | Search path : /scratch/project_2007145/antkark/MMB-117/MMB-117_EnvironmentalMicrobiology/trimmed_data/fun_data/FASTQC/A006-A-park-fun_trimmed_2_fastqc.zip\n",
      "\u001b[34m|           multiqc\u001b[0m | Search path : /scratch/project_2007145/antkark/MMB-117/MMB-117_EnvironmentalMicrobiology/trimmed_data/fun_data/FASTQC/A008-A-NC-fun_trimmed_1_fastqc.html\n",
      "\u001b[34m|           multiqc\u001b[0m | Search path : /scratch/project_2007145/antkark/MMB-117/MMB-117_EnvironmentalMicrobiology/trimmed_data/fun_data/FASTQC/A008-A-NC-fun_trimmed_1_fastqc.zip\n",
      "\u001b[34m|           multiqc\u001b[0m | Search path : /scratch/project_2007145/antkark/MMB-117/MMB-117_EnvironmentalMicrobiology/trimmed_data/fun_data/FASTQC/A008-A-NC-fun_trimmed_2_fastqc.html\n",
      "\u001b[34m|           multiqc\u001b[0m | Search path : /scratch/project_2007145/antkark/MMB-117/MMB-117_EnvironmentalMicrobiology/trimmed_data/fun_data/FASTQC/A008-A-NC-fun_trimmed_2_fastqc.zip\n",
      "\u001b[34m|           multiqc\u001b[0m | Search path : /scratch/project_2007145/antkark/MMB-117/MMB-117_EnvironmentalMicrobiology/trimmed_data/fun_data/FASTQC/A012-B-park-fun_trimmed_1_fastqc.html\n",
      "\u001b[34m|           multiqc\u001b[0m | Search path : /scratch/project_2007145/antkark/MMB-117/MMB-117_EnvironmentalMicrobiology/trimmed_data/fun_data/FASTQC/A012-B-park-fun_trimmed_1_fastqc.zip\n",
      "\u001b[34m|           multiqc\u001b[0m | Search path : /scratch/project_2007145/antkark/MMB-117/MMB-117_EnvironmentalMicrobiology/trimmed_data/fun_data/FASTQC/A012-B-park-fun_trimmed_2_fastqc.html\n",
      "\u001b[34m|           multiqc\u001b[0m | Search path : /scratch/project_2007145/antkark/MMB-117/MMB-117_EnvironmentalMicrobiology/trimmed_data/fun_data/FASTQC/A012-B-park-fun_trimmed_2_fastqc.zip\n",
      "\u001b[34m|           multiqc\u001b[0m | Search path : /scratch/project_2007145/antkark/MMB-117/MMB-117_EnvironmentalMicrobiology/trimmed_data/fun_data/FASTQC/A013-B-agri-fun_trimmed_1_fastqc.html\n",
      "\u001b[34m|           multiqc\u001b[0m | Search path : /scratch/project_2007145/antkark/MMB-117/MMB-117_EnvironmentalMicrobiology/trimmed_data/fun_data/FASTQC/A013-B-agri-fun_trimmed_1_fastqc.zip\n",
      "\u001b[34m|           multiqc\u001b[0m | Search path : /scratch/project_2007145/antkark/MMB-117/MMB-117_EnvironmentalMicrobiology/trimmed_data/fun_data/FASTQC/A013-B-agri-fun_trimmed_2_fastqc.html\n",
      "\u001b[34m|           multiqc\u001b[0m | Search path : /scratch/project_2007145/antkark/MMB-117/MMB-117_EnvironmentalMicrobiology/trimmed_data/fun_data/FASTQC/A013-B-agri-fun_trimmed_2_fastqc.zip\n",
      "\u001b[34m|           multiqc\u001b[0m | Search path : /scratch/project_2007145/antkark/MMB-117/MMB-117_EnvironmentalMicrobiology/trimmed_data/fun_data/FASTQC/A014-B-fore-fun_trimmed_1_fastqc.html\n",
      "\u001b[34m|           multiqc\u001b[0m | Search path : /scratch/project_2007145/antkark/MMB-117/MMB-117_EnvironmentalMicrobiology/trimmed_data/fun_data/FASTQC/A014-B-fore-fun_trimmed_1_fastqc.zip\n",
      "\u001b[34m|           multiqc\u001b[0m | Search path : /scratch/project_2007145/antkark/MMB-117/MMB-117_EnvironmentalMicrobiology/trimmed_data/fun_data/FASTQC/A014-B-fore-fun_trimmed_2_fastqc.html\n",
      "\u001b[34m|           multiqc\u001b[0m | Search path : /scratch/project_2007145/antkark/MMB-117/MMB-117_EnvironmentalMicrobiology/trimmed_data/fun_data/FASTQC/A014-B-fore-fun_trimmed_2_fastqc.zip\n",
      "\u001b[34m|           multiqc\u001b[0m | Search path : /scratch/project_2007145/antkark/MMB-117/MMB-117_EnvironmentalMicrobiology/trimmed_data/fun_data/FASTQC/A016-B-NC-fun_trimmed_1_fastqc.html\n",
      "\u001b[34m|           multiqc\u001b[0m | Search path : /scratch/project_2007145/antkark/MMB-117/MMB-117_EnvironmentalMicrobiology/trimmed_data/fun_data/FASTQC/A016-B-NC-fun_trimmed_1_fastqc.zip\n",
      "\u001b[34m|           multiqc\u001b[0m | Search path : /scratch/project_2007145/antkark/MMB-117/MMB-117_EnvironmentalMicrobiology/trimmed_data/fun_data/FASTQC/A016-B-NC-fun_trimmed_2_fastqc.html\n",
      "\u001b[34m|           multiqc\u001b[0m | Search path : /scratch/project_2007145/antkark/MMB-117/MMB-117_EnvironmentalMicrobiology/trimmed_data/fun_data/FASTQC/A016-B-NC-fun_trimmed_2_fastqc.zip\n",
      "\u001b[34m|           multiqc\u001b[0m | Search path : /scratch/project_2007145/antkark/MMB-117/MMB-117_EnvironmentalMicrobiology/trimmed_data/fun_data/FASTQC/A018-C-park-fun_trimmed_1_fastqc.html\n",
      "\u001b[34m|           multiqc\u001b[0m | Search path : /scratch/project_2007145/antkark/MMB-117/MMB-117_EnvironmentalMicrobiology/trimmed_data/fun_data/FASTQC/A018-C-park-fun_trimmed_1_fastqc.zip\n",
      "\u001b[34m|           multiqc\u001b[0m | Search path : /scratch/project_2007145/antkark/MMB-117/MMB-117_EnvironmentalMicrobiology/trimmed_data/fun_data/FASTQC/A018-C-park-fun_trimmed_2_fastqc.html\n",
      "\u001b[34m|           multiqc\u001b[0m | Search path : /scratch/project_2007145/antkark/MMB-117/MMB-117_EnvironmentalMicrobiology/trimmed_data/fun_data/FASTQC/A018-C-park-fun_trimmed_2_fastqc.zip\n",
      "\u001b[34m|           multiqc\u001b[0m | Search path : /scratch/project_2007145/antkark/MMB-117/MMB-117_EnvironmentalMicrobiology/trimmed_data/fun_data/FASTQC/A020-C-agri-fun_trimmed_1_fastqc.html\n",
      "\u001b[34m|           multiqc\u001b[0m | Search path : /scratch/project_2007145/antkark/MMB-117/MMB-117_EnvironmentalMicrobiology/trimmed_data/fun_data/FASTQC/A020-C-agri-fun_trimmed_1_fastqc.zip\n",
      "\u001b[34m|           multiqc\u001b[0m | Search path : /scratch/project_2007145/antkark/MMB-117/MMB-117_EnvironmentalMicrobiology/trimmed_data/fun_data/FASTQC/A020-C-agri-fun_trimmed_2_fastqc.html\n",
      "\u001b[34m|           multiqc\u001b[0m | Search path : /scratch/project_2007145/antkark/MMB-117/MMB-117_EnvironmentalMicrobiology/trimmed_data/fun_data/FASTQC/A020-C-agri-fun_trimmed_2_fastqc.zip\n",
      "\u001b[34m|           multiqc\u001b[0m | Search path : /scratch/project_2007145/antkark/MMB-117/MMB-117_EnvironmentalMicrobiology/trimmed_data/fun_data/FASTQC/A022-C-fore-fun_trimmed_1_fastqc.html\n",
      "\u001b[34m|           multiqc\u001b[0m | Search path : /scratch/project_2007145/antkark/MMB-117/MMB-117_EnvironmentalMicrobiology/trimmed_data/fun_data/FASTQC/A022-C-fore-fun_trimmed_1_fastqc.zip\n",
      "\u001b[34m|           multiqc\u001b[0m | Search path : /scratch/project_2007145/antkark/MMB-117/MMB-117_EnvironmentalMicrobiology/trimmed_data/fun_data/FASTQC/A022-C-fore-fun_trimmed_2_fastqc.html\n",
      "\u001b[34m|           multiqc\u001b[0m | Search path : /scratch/project_2007145/antkark/MMB-117/MMB-117_EnvironmentalMicrobiology/trimmed_data/fun_data/FASTQC/A022-C-fore-fun_trimmed_2_fastqc.zip\n",
      "\u001b[34m|           multiqc\u001b[0m | Search path : /scratch/project_2007145/antkark/MMB-117/MMB-117_EnvironmentalMicrobiology/trimmed_data/fun_data/FASTQC/A024-C-NC-fun_trimmed_1_fastqc.html\n",
      "\u001b[34m|           multiqc\u001b[0m | Search path : /scratch/project_2007145/antkark/MMB-117/MMB-117_EnvironmentalMicrobiology/trimmed_data/fun_data/FASTQC/A024-C-NC-fun_trimmed_1_fastqc.zip\n",
      "\u001b[34m|           multiqc\u001b[0m | Search path : /scratch/project_2007145/antkark/MMB-117/MMB-117_EnvironmentalMicrobiology/trimmed_data/fun_data/FASTQC/A024-C-NC-fun_trimmed_2_fastqc.html\n",
      "\u001b[34m|           multiqc\u001b[0m | Search path : /scratch/project_2007145/antkark/MMB-117/MMB-117_EnvironmentalMicrobiology/trimmed_data/fun_data/FASTQC/A024-C-NC-fun_trimmed_2_fastqc.zip\n",
      "\u001b[34m|           multiqc\u001b[0m | Search path : /scratch/project_2007145/antkark/MMB-117/MMB-117_EnvironmentalMicrobiology/trimmed_data/fun_data/FASTQC/A029-D-agri-fun_trimmed_1_fastqc.html\n",
      "\u001b[34m|           multiqc\u001b[0m | Search path : /scratch/project_2007145/antkark/MMB-117/MMB-117_EnvironmentalMicrobiology/trimmed_data/fun_data/FASTQC/A029-D-agri-fun_trimmed_1_fastqc.zip\n",
      "\u001b[34m|           multiqc\u001b[0m | Search path : /scratch/project_2007145/antkark/MMB-117/MMB-117_EnvironmentalMicrobiology/trimmed_data/fun_data/FASTQC/A029-D-agri-fun_trimmed_2_fastqc.html\n",
      "\u001b[34m|           multiqc\u001b[0m | Search path : /scratch/project_2007145/antkark/MMB-117/MMB-117_EnvironmentalMicrobiology/trimmed_data/fun_data/FASTQC/A029-D-agri-fun_trimmed_2_fastqc.zip\n",
      "\u001b[34m|           multiqc\u001b[0m | Search path : /scratch/project_2007145/antkark/MMB-117/MMB-117_EnvironmentalMicrobiology/trimmed_data/fun_data/FASTQC/A030-D-fore-fun_trimmed_1_fastqc.html\n",
      "\u001b[34m|           multiqc\u001b[0m | Search path : /scratch/project_2007145/antkark/MMB-117/MMB-117_EnvironmentalMicrobiology/trimmed_data/fun_data/FASTQC/A030-D-fore-fun_trimmed_1_fastqc.zip\n",
      "\u001b[34m|           multiqc\u001b[0m | Search path : /scratch/project_2007145/antkark/MMB-117/MMB-117_EnvironmentalMicrobiology/trimmed_data/fun_data/FASTQC/A030-D-fore-fun_trimmed_2_fastqc.html\n",
      "\u001b[34m|           multiqc\u001b[0m | Search path : /scratch/project_2007145/antkark/MMB-117/MMB-117_EnvironmentalMicrobiology/trimmed_data/fun_data/FASTQC/A030-D-fore-fun_trimmed_2_fastqc.zip\n",
      "\u001b[34m|           multiqc\u001b[0m | Search path : /scratch/project_2007145/antkark/MMB-117/MMB-117_EnvironmentalMicrobiology/trimmed_data/fun_data/FASTQC/A031-D-park-fun_trimmed_1_fastqc.html\n",
      "\u001b[34m|           multiqc\u001b[0m | Search path : /scratch/project_2007145/antkark/MMB-117/MMB-117_EnvironmentalMicrobiology/trimmed_data/fun_data/FASTQC/A031-D-park-fun_trimmed_1_fastqc.zip\n",
      "\u001b[34m|           multiqc\u001b[0m | Search path : /scratch/project_2007145/antkark/MMB-117/MMB-117_EnvironmentalMicrobiology/trimmed_data/fun_data/FASTQC/A031-D-park-fun_trimmed_2_fastqc.html\n",
      "\u001b[34m|           multiqc\u001b[0m | Search path : /scratch/project_2007145/antkark/MMB-117/MMB-117_EnvironmentalMicrobiology/trimmed_data/fun_data/FASTQC/A031-D-park-fun_trimmed_2_fastqc.zip\n",
      "\u001b[34m|           multiqc\u001b[0m | Search path : /scratch/project_2007145/antkark/MMB-117/MMB-117_EnvironmentalMicrobiology/trimmed_data/fun_data/FASTQC/A032-D-NC-fun_trimmed_1_fastqc.html\n",
      "\u001b[34m|           multiqc\u001b[0m | Search path : /scratch/project_2007145/antkark/MMB-117/MMB-117_EnvironmentalMicrobiology/trimmed_data/fun_data/FASTQC/A032-D-NC-fun_trimmed_1_fastqc.zip\n",
      "\u001b[34m|           multiqc\u001b[0m | Search path : /scratch/project_2007145/antkark/MMB-117/MMB-117_EnvironmentalMicrobiology/trimmed_data/fun_data/FASTQC/A032-D-NC-fun_trimmed_2_fastqc.html\n",
      "\u001b[34m|           multiqc\u001b[0m | Search path : /scratch/project_2007145/antkark/MMB-117/MMB-117_EnvironmentalMicrobiology/trimmed_data/fun_data/FASTQC/A032-D-NC-fun_trimmed_2_fastqc.zip\n",
      "\u001b[34m|           multiqc\u001b[0m | Search path : /scratch/project_2007145/antkark/MMB-117/MMB-117_EnvironmentalMicrobiology/trimmed_data/fun_data/FASTQC/A036-E-agri-fun_trimmed_1_fastqc.html\n",
      "\u001b[34m|           multiqc\u001b[0m | Search path : /scratch/project_2007145/antkark/MMB-117/MMB-117_EnvironmentalMicrobiology/trimmed_data/fun_data/FASTQC/A036-E-agri-fun_trimmed_1_fastqc.zip\n",
      "\u001b[34m|           multiqc\u001b[0m | Search path : /scratch/project_2007145/antkark/MMB-117/MMB-117_EnvironmentalMicrobiology/trimmed_data/fun_data/FASTQC/A036-E-agri-fun_trimmed_2_fastqc.html\n",
      "\u001b[34m|           multiqc\u001b[0m | Search path : /scratch/project_2007145/antkark/MMB-117/MMB-117_EnvironmentalMicrobiology/trimmed_data/fun_data/FASTQC/A036-E-agri-fun_trimmed_2_fastqc.zip\n",
      "\u001b[34m|           multiqc\u001b[0m | Search path : /scratch/project_2007145/antkark/MMB-117/MMB-117_EnvironmentalMicrobiology/trimmed_data/fun_data/FASTQC/A037-E-park-fun_trimmed_1_fastqc.html\n",
      "\u001b[34m|           multiqc\u001b[0m | Search path : /scratch/project_2007145/antkark/MMB-117/MMB-117_EnvironmentalMicrobiology/trimmed_data/fun_data/FASTQC/A037-E-park-fun_trimmed_1_fastqc.zip\n",
      "\u001b[34m|           multiqc\u001b[0m | Search path : /scratch/project_2007145/antkark/MMB-117/MMB-117_EnvironmentalMicrobiology/trimmed_data/fun_data/FASTQC/A037-E-park-fun_trimmed_2_fastqc.html\n",
      "\u001b[34m|           multiqc\u001b[0m | Search path : /scratch/project_2007145/antkark/MMB-117/MMB-117_EnvironmentalMicrobiology/trimmed_data/fun_data/FASTQC/A037-E-park-fun_trimmed_2_fastqc.zip\n",
      "\u001b[34m|           multiqc\u001b[0m | Search path : /scratch/project_2007145/antkark/MMB-117/MMB-117_EnvironmentalMicrobiology/trimmed_data/fun_data/FASTQC/A038-E-fore-fun_trimmed_1_fastqc.html\n",
      "\u001b[34m|           multiqc\u001b[0m | Search path : /scratch/project_2007145/antkark/MMB-117/MMB-117_EnvironmentalMicrobiology/trimmed_data/fun_data/FASTQC/A038-E-fore-fun_trimmed_1_fastqc.zip\n",
      "\u001b[34m|           multiqc\u001b[0m | Search path : /scratch/project_2007145/antkark/MMB-117/MMB-117_EnvironmentalMicrobiology/trimmed_data/fun_data/FASTQC/A038-E-fore-fun_trimmed_2_fastqc.html\n",
      "\u001b[34m|           multiqc\u001b[0m | Search path : /scratch/project_2007145/antkark/MMB-117/MMB-117_EnvironmentalMicrobiology/trimmed_data/fun_data/FASTQC/A038-E-fore-fun_trimmed_2_fastqc.zip\n",
      "\u001b[34m|           multiqc\u001b[0m | Search path : /scratch/project_2007145/antkark/MMB-117/MMB-117_EnvironmentalMicrobiology/trimmed_data/fun_data/FASTQC/A040-E-NC-fun_trimmed_1_fastqc.html\n",
      "\u001b[34m|           multiqc\u001b[0m | Search path : /scratch/project_2007145/antkark/MMB-117/MMB-117_EnvironmentalMicrobiology/trimmed_data/fun_data/FASTQC/A040-E-NC-fun_trimmed_1_fastqc.zip\n",
      "\u001b[34m|           multiqc\u001b[0m | Search path : /scratch/project_2007145/antkark/MMB-117/MMB-117_EnvironmentalMicrobiology/trimmed_data/fun_data/FASTQC/A040-E-NC-fun_trimmed_2_fastqc.html\n",
      "\u001b[34m|           multiqc\u001b[0m | Search path : /scratch/project_2007145/antkark/MMB-117/MMB-117_EnvironmentalMicrobiology/trimmed_data/fun_data/FASTQC/A040-E-NC-fun_trimmed_2_fastqc.zip\n",
      "\u001b[2K\u001b[34m|\u001b[0m         \u001b[34msearching\u001b[0m | \u001b[90m━━━━━━━━━━━━━━━━━━━━━━━━━━━━━━━━━━━━━━━━\u001b[0m \u001b[35m100%\u001b[0m \u001b[32m80/80\u001b[0m  \u001b[0m0m  \n",
      "\u001b[?25h\u001b[34m|            fastqc\u001b[0m | Found 40 reports\n",
      "\u001b[34m|           multiqc\u001b[0m | Compressing plot data\n",
      "\u001b[34m|           multiqc\u001b[0m | Report      : trimmed_data/fun_data/FASTQC/multiqc_report.html\n",
      "\u001b[34m|           multiqc\u001b[0m | Data        : trimmed_data/fun_data/FASTQC/multiqc_data\n",
      "\u001b[34m|           multiqc\u001b[0m | MultiQC complete\n"
     ]
    }
   ],
   "source": [
    "!multiqc --outdir trimmed_data/fun_data/FASTQC --interactive trimmed_data/fun_data/FASTQC/*"
   ]
  },
  {
   "cell_type": "markdown",
   "metadata": {},
   "source": [
    "__And we are done.__"
   ]
  }
 ],
 "metadata": {
  "kernelspec": {
   "display_name": "Python 3 (ipykernel)",
   "language": "python",
   "name": "python3"
  },
  "language_info": {
   "codemirror_mode": {
    "name": "ipython",
    "version": 3
   },
   "file_extension": ".py",
   "mimetype": "text/x-python",
   "name": "python",
   "nbconvert_exporter": "python",
   "pygments_lexer": "ipython3",
   "version": "3.8.8"
  },
  "vscode": {
   "interpreter": {
    "hash": "0c1aed64d5e4f622e107948ca29209dcff88f0cd53bde2862acf33e5a35c0f44"
   }
  }
 },
 "nbformat": 4,
 "nbformat_minor": 4
}
