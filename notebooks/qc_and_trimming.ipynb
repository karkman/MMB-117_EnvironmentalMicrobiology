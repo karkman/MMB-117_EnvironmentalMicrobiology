{
 "cells": [
  {
   "cell_type": "markdown",
   "metadata": {},
   "source": [
    "# Quality control and adapter trimming of Illumina reads\n",
    "\n",
    "The first step with sequence data is always quality control (QC). We will use [fastqc](https://www.bioinformatics.babraham.ac.uk/projects/fastqc/) for this.  \n",
    "As this notebook is again located in `notebooks` folder, move to the main course folder to run the analysis.\n",
    "\n",
    "Keep in mind that all steps will be done separately for the bacterial (16S) and fungal (ITS) data. \n",
    "\n",
    "The data to be analysed is in the folders created under `data/` folder (`bac_data` & `fun_data`). First step is to create output folders for fastqc for both 16S and ITS data. "
   ]
  },
  {
   "cell_type": "markdown",
   "metadata": {},
   "source": [
    "Move to the right folder. "
   ]
  },
  {
   "cell_type": "code",
   "execution_count": null,
   "metadata": {},
   "outputs": [],
   "source": [
    "cd ../"
   ]
  },
  {
   "cell_type": "markdown",
   "metadata": {},
   "source": [
    "Make the output for bacterial reads."
   ]
  },
  {
   "cell_type": "code",
   "execution_count": null,
   "metadata": {},
   "outputs": [],
   "source": [
    "mkdir data/bac_data/FASTQC"
   ]
  },
  {
   "cell_type": "markdown",
   "metadata": {},
   "source": [
    "And for the fungal data. "
   ]
  },
  {
   "cell_type": "code",
   "execution_count": null,
   "metadata": {},
   "outputs": [],
   "source": [
    "mkdir data/fun_data/FASTQC"
   ]
  },
  {
   "cell_type": "markdown",
   "metadata": {},
   "source": [
    "Then run fastqc on the bacterial data."
   ]
  },
  {
   "cell_type": "code",
   "execution_count": null,
   "metadata": {},
   "outputs": [],
   "source": [
    "!fastqc --quiet --threads 4 --outdir data/bac_data/FASTQC --format fastq data/bac_data/*.fastq.gz"
   ]
  },
  {
   "cell_type": "markdown",
   "metadata": {},
   "source": [
    "Then do the same for fungal data."
   ]
  },
  {
   "cell_type": "code",
   "execution_count": null,
   "metadata": {},
   "outputs": [],
   "source": [
    "!fastqc -h"
   ]
  },
  {
   "cell_type": "markdown",
   "metadata": {},
   "source": [
    "After the QC has been done, we can combine the reports, separately for bacterial and fungal data.\n",
    "\n",
    "First bacterial data"
   ]
  },
  {
   "cell_type": "code",
   "execution_count": null,
   "metadata": {},
   "outputs": [],
   "source": [
    "!multiqc --outdir data/bac_data/FASTQC --interactive data/bac_data/FASTQC/*"
   ]
  },
  {
   "cell_type": "markdown",
   "metadata": {},
   "source": [
    "And then fungal data"
   ]
  },
  {
   "cell_type": "code",
   "execution_count": null,
   "metadata": {},
   "outputs": [],
   "source": [
    "!multiqc "
   ]
  },
  {
   "cell_type": "markdown",
   "metadata": {},
   "source": [
    "After multiqc has completed, find the output files (`multiqc_report.html`) from the file browser on the left and download them to your own computer. Remember to change the names locally, otherwise the second one will overwrite the first if you download them to the same folder. "
   ]
  },
  {
   "cell_type": "markdown",
   "metadata": {},
   "source": [
    "After initial quality control, we need to trim off the PCR primers from our reads. We will use [cutadapt](https://cutadapt.readthedocs.io/en/stable/guide.html) for the job. Read the \"Adapter types\" section from the manual behind the link and think about where would we excpet out primers to be. And which options should we use to trim them.  We will run cutadapt in paired-end mode, so we need to specify the outputs separately for R1 and R2 reads. "
   ]
  },
  {
   "cell_type": "code",
   "execution_count": null,
   "metadata": {},
   "outputs": [],
   "source": [
    "!cutadapt -h"
   ]
  },
  {
   "cell_type": "markdown",
   "metadata": {},
   "source": [
    "Instead of running each sample separately, we can make a simple for loop to run each sample. But we first need the sample names.  "
   ]
  },
  {
   "cell_type": "markdown",
   "metadata": {},
   "source": [
    "First go to the right folder. "
   ]
  },
  {
   "cell_type": "code",
   "execution_count": null,
   "metadata": {},
   "outputs": [],
   "source": [
    "cd data/bac_data"
   ]
  },
  {
   "cell_type": "markdown",
   "metadata": {},
   "source": [
    "Then get the sample names from the forward read files. "
   ]
  },
  {
   "cell_type": "code",
   "execution_count": null,
   "metadata": {},
   "outputs": [],
   "source": [
    "ls SRR*_1.fastq.gz |cut -d \"_\" -f 1 > sample_names.txt"
   ]
  },
  {
   "cell_type": "markdown",
   "metadata": {},
   "source": []
  },
  {
   "cell_type": "markdown",
   "metadata": {},
   "source": [
    "Then the names for ITS samples too.  "
   ]
  },
  {
   "cell_type": "markdown",
   "metadata": {},
   "source": [
    "Before running cutadapt, we need to make new folders for trimmed reads under the `trimmed_data` folder. \n",
    "Call them again `bac_data` and `fun_data`."
   ]
  },
  {
   "cell_type": "markdown",
   "metadata": {},
   "source": [
    "Then we can run cutadapt in a loop going thru the file with all sample names. Run the command from the samin folder. "
   ]
  },
  {
   "cell_type": "code",
   "execution_count": null,
   "metadata": {},
   "outputs": [],
   "source": [
    "!for sample in $(cat data/bac_data/sample_names.txt); do cutadapt -g PRIMER_SEQUENCE -G PRIMER_SEQUENCE -O 10 --cores 4 data/bac_data/${sample}_1.fastq.gz data/bac_data/${sample}_2.fastq.gz -o trimmed_data/bac_data/${sample}_trimmed_1.fastq.gz -p trimmed_data/bac_data/${sample}_trimmed_2.fastq.gz > trimmed_data/fun_data/${sample}.log; done "
   ]
  },
  {
   "cell_type": "markdown",
   "metadata": {},
   "source": [
    "When the trimming is done, run fastqc and multiqc again on thee trimmed data to make sure everything looks ok. "
   ]
  },
  {
   "cell_type": "code",
   "execution_count": null,
   "metadata": {},
   "outputs": [],
   "source": [
    "!fastqc"
   ]
  },
  {
   "cell_type": "code",
   "execution_count": null,
   "metadata": {},
   "outputs": [],
   "source": [
    "!multiqc"
   ]
  },
  {
   "cell_type": "markdown",
   "metadata": {},
   "source": [
    "__And we are done.__"
   ]
  }
 ],
 "metadata": {
  "kernelspec": {
   "display_name": "Python 3.8.12 ('base')",
   "language": "python",
   "name": "python3"
  },
  "language_info": {
   "name": "python",
   "version": "3.8.12"
  },
  "orig_nbformat": 4,
  "vscode": {
   "interpreter": {
    "hash": "0c1aed64d5e4f622e107948ca29209dcff88f0cd53bde2862acf33e5a35c0f44"
   }
  }
 },
 "nbformat": 4,
 "nbformat_minor": 2
}
